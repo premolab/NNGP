{
 "cells": [
  {
   "cell_type": "markdown",
   "metadata": {
    "pycharm": {
     "is_executing": false
    }
   },
   "source": [
    "#### Active learning NNGP experiment\n",
    "We use one set of params for simple example"
   ]
  },
  {
   "cell_type": "code",
   "execution_count": 2,
   "metadata": {},
   "outputs": [],
   "source": [
    "%load_ext autoreload\n",
    "%autoreload 2"
   ]
  },
  {
   "cell_type": "code",
   "execution_count": 3,
   "metadata": {},
   "outputs": [],
   "source": [
    "import numpy as np\n",
    "import tensorflow as tf\n",
    "from sklearn.metrics import mean_squared_error as mse\n",
    "import matplotlib.pyplot as plt\n",
    "\n",
    "from model.mlp import MLP\n",
    "from dataloader.rosen import RosenData\n",
    "from uncertainty_estimator.nngp import NNGP\n",
    "from sample_selector.eager import EagerSampleSelector\n",
    "from oracle.identity import IdentityOracle\n"
   ]
  },
  {
   "cell_type": "code",
   "execution_count": 4,
   "metadata": {
    "pycharm": {
     "is_executing": false
    }
   },
   "outputs": [],
   "source": [
    "config = {\n",
    "    'random_state': 4623457,\n",
    "    'n_dim': 10,\n",
    "    'n_train': 200,\n",
    "    'n_test': 200,\n",
    "    'n_pool': 1000,\n",
    "    'layers': [128, 64, 32],\n",
    "    'update_sample_size': 10,\n",
    "    'al_iterations': 10\n",
    "}\n",
    "\n",
    "np.random.seed(config['random_state'])"
   ]
  },
  {
   "cell_type": "code",
   "execution_count": 5,
   "metadata": {
    "pycharm": {
     "is_executing": false
    }
   },
   "outputs": [],
   "source": [
    "def print_shapes(note, *sets):\n",
    "    print(note)\n",
    "    for x, y in sets:\n",
    "        print(\"shapes:\", x.shape, y.shape)\n",
    "\n",
    "# load data\n",
    "X_train, y_train, _, _, X_test, y_test, X_pool, y_pool = RosenData(\n",
    "    config['n_train'], 0, config['n_test'], config['n_pool'], config['n_dim']\n",
    ").dataset()"
   ]
  },
  {
   "cell_type": "code",
   "execution_count": 6,
   "metadata": {
    "pycharm": {
     "is_executing": false
    }
   },
   "outputs": [
    {
     "name": "stdout",
     "output_type": "stream",
     "text": [
      "\n",
      "WARNING: The TensorFlow contrib module will not be included in TensorFlow 2.0.\n",
      "For more information, please see:\n",
      "  * https://github.com/tensorflow/community/blob/master/rfcs/20180907-contrib-sunset.md\n",
      "  * https://github.com/tensorflow/addons\n",
      "If you depend on functionality not listed there, please file an issue.\n",
      "\n",
      "WARNING:tensorflow:From /home/beardysome/anaconda3/lib/python3.7/site-packages/tensorflow/python/framework/op_def_library.py:263: colocate_with (from tensorflow.python.framework.ops) is deprecated and will be removed in a future version.\n",
      "Instructions for updating:\n",
      "Colocations handled automatically by placer.\n",
      "WARNING:tensorflow:From /media/media_drive/skoltech/NNGP/model/mlp.py:28: calling dropout (from tensorflow.python.ops.nn_ops) with keep_prob is deprecated and will be removed in a future version.\n",
      "Instructions for updating:\n",
      "Please use `rate` instead of `keep_prob`. Rate should be set to `rate = 1 - keep_prob`.\n",
      "WARNING:tensorflow:From /home/beardysome/anaconda3/lib/python3.7/site-packages/tensorflow/python/ops/losses/losses_impl.py:667: to_float (from tensorflow.python.ops.math_ops) is deprecated and will be removed in a future version.\n",
      "Instructions for updating:\n",
      "Use tf.cast instead.\n"
     ]
    }
   ],
   "source": [
    "# Init neural network & tf session\n",
    "tf.reset_default_graph()\n",
    "\n",
    "model = MLP(\n",
    "    ndim = config['n_dim'],\n",
    "    random_state = config['random_state'],\n",
    "    layers = config['layers']\n",
    ")\n",
    "\n",
    "try:\n",
    "    sess.close()\n",
    "except:\n",
    "    pass\n",
    "session_config = tf.ConfigProto()\n",
    "session_config.gpu_options.allow_growth = True\n",
    "\n",
    "init = tf.global_variables_initializer()\n",
    "sess = tf.Session(config=session_config)\n",
    "sess.run(init)"
   ]
  },
  {
   "cell_type": "code",
   "execution_count": 17,
   "metadata": {
    "scrolled": true
   },
   "outputs": [
    {
     "name": "stdout",
     "output_type": "stream",
     "text": [
      "[[0. 0. 0. 0. 0. 0. 0. 0. 0. 0. 0. 0. 0. 0. 0. 0. 0. 0. 0. 0. 0. 0. 0. 0.\n",
      "  0.]]\n",
      "[[-0.1989958  0.         0.         0.         0.         0.\n",
      "   0.         0.         0.         0.         0.         0.\n",
      "   0.         0.         0.         0.         0.         0.\n",
      "   0.         0.         0.         0.         0.         0.\n",
      "   0.       ]]\n",
      "[[-0.1989958  -0.23381726  0.          0.          0.          0.\n",
      "   0.          0.          0.          0.          0.          0.\n",
      "   0.          0.          0.          0.          0.          0.\n",
      "   0.          0.          0.          0.          0.          0.\n",
      "   0.        ]]\n",
      "[[-0.1989958  -0.23381726 -0.12259002  0.          0.          0.\n",
      "   0.          0.          0.          0.          0.          0.\n",
      "   0.          0.          0.          0.          0.          0.\n",
      "   0.          0.          0.          0.          0.          0.\n",
      "   0.        ]]\n",
      "[[-0.1989958  -0.23381726 -0.12259002 -0.19776772  0.          0.\n",
      "   0.          0.          0.          0.          0.          0.\n",
      "   0.          0.          0.          0.          0.          0.\n",
      "   0.          0.          0.          0.          0.          0.\n",
      "   0.        ]]\n",
      "[[-0.1989958  -0.23381726 -0.12259002 -0.19776772 -0.06511209  0.\n",
      "   0.          0.          0.          0.          0.          0.\n",
      "   0.          0.          0.          0.          0.          0.\n",
      "   0.          0.          0.          0.          0.          0.\n",
      "   0.        ]]\n",
      "[[-0.1989958  -0.23381726 -0.12259002 -0.19776772 -0.06511209 -0.20270069\n",
      "   0.          0.          0.          0.          0.          0.\n",
      "   0.          0.          0.          0.          0.          0.\n",
      "   0.          0.          0.          0.          0.          0.\n",
      "   0.        ]]\n",
      "[[-0.1989958  -0.23381726 -0.12259002 -0.19776772 -0.06511209 -0.20270069\n",
      "  -0.19741893  0.          0.          0.          0.          0.\n",
      "   0.          0.          0.          0.          0.          0.\n",
      "   0.          0.          0.          0.          0.          0.\n",
      "   0.        ]]\n",
      "[[-0.1989958  -0.23381726 -0.12259002 -0.19776772 -0.06511209 -0.20270069\n",
      "  -0.19741893 -0.27158818  0.          0.          0.          0.\n",
      "   0.          0.          0.          0.          0.          0.\n",
      "   0.          0.          0.          0.          0.          0.\n",
      "   0.        ]]\n",
      "[[-0.1989958  -0.23381726 -0.12259002 -0.19776772 -0.06511209 -0.20270069\n",
      "  -0.19741893 -0.27158818 -0.1898319   0.          0.          0.\n",
      "   0.          0.          0.          0.          0.          0.\n",
      "   0.          0.          0.          0.          0.          0.\n",
      "   0.        ]]\n",
      "[[-0.1989958  -0.23381726 -0.12259002 -0.19776772 -0.06511209 -0.20270069\n",
      "  -0.19741893 -0.27158818 -0.1898319  -0.1916635   0.          0.\n",
      "   0.          0.          0.          0.          0.          0.\n",
      "   0.          0.          0.          0.          0.          0.\n",
      "   0.        ]]\n",
      "[[-0.1989958  -0.23381726 -0.12259002 -0.19776772 -0.06511209 -0.20270069\n",
      "  -0.19741893 -0.27158818 -0.1898319  -0.1916635   0.12811267  0.\n",
      "   0.          0.          0.          0.          0.          0.\n",
      "   0.          0.          0.          0.          0.          0.\n",
      "   0.        ]]\n",
      "[[-0.1989958  -0.23381726 -0.12259002 -0.19776772 -0.06511209 -0.20270069\n",
      "  -0.19741893 -0.27158818 -0.1898319  -0.1916635   0.12811267 -0.20518516\n",
      "   0.          0.          0.          0.          0.          0.\n",
      "   0.          0.          0.          0.          0.          0.\n",
      "   0.        ]]\n",
      "[[-0.1989958  -0.23381726 -0.12259002 -0.19776772 -0.06511209 -0.20270069\n",
      "  -0.19741893 -0.27158818 -0.1898319  -0.1916635   0.12811267 -0.20518516\n",
      "   0.15269208  0.          0.          0.          0.          0.\n",
      "   0.          0.          0.          0.          0.          0.\n",
      "   0.        ]]\n",
      "[[-0.1989958  -0.23381726 -0.12259002 -0.19776772 -0.06511209 -0.20270069\n",
      "  -0.19741893 -0.27158818 -0.1898319  -0.1916635   0.12811267 -0.20518516\n",
      "   0.15269208 -0.03743003  0.          0.          0.          0.\n",
      "   0.          0.          0.          0.          0.          0.\n",
      "   0.        ]]\n",
      "[[-0.1989958  -0.23381726 -0.12259002 -0.19776772 -0.06511209 -0.20270069\n",
      "  -0.19741893 -0.27158818 -0.1898319  -0.1916635   0.12811267 -0.20518516\n",
      "   0.15269208 -0.03743003 -0.2722896   0.          0.          0.\n",
      "   0.          0.          0.          0.          0.          0.\n",
      "   0.        ]]\n",
      "[[-0.1989958  -0.23381726 -0.12259002 -0.19776772 -0.06511209 -0.20270069\n",
      "  -0.19741893 -0.27158818 -0.1898319  -0.1916635   0.12811267 -0.20518516\n",
      "   0.15269208 -0.03743003 -0.2722896  -0.09890818  0.          0.\n",
      "   0.          0.          0.          0.          0.          0.\n",
      "   0.        ]]\n",
      "[[-0.1989958  -0.23381726 -0.12259002 -0.19776772 -0.06511209 -0.20270069\n",
      "  -0.19741893 -0.27158818 -0.1898319  -0.1916635   0.12811267 -0.20518516\n",
      "   0.15269208 -0.03743003 -0.2722896  -0.09890818 -0.12203766  0.\n",
      "   0.          0.          0.          0.          0.          0.\n",
      "   0.        ]]\n",
      "[[-0.1989958  -0.23381726 -0.12259002 -0.19776772 -0.06511209 -0.20270069\n",
      "  -0.19741893 -0.27158818 -0.1898319  -0.1916635   0.12811267 -0.20518516\n",
      "   0.15269208 -0.03743003 -0.2722896  -0.09890818 -0.12203766 -0.1751288\n",
      "   0.          0.          0.          0.          0.          0.\n",
      "   0.        ]]\n",
      "[[-0.1989958  -0.23381726 -0.12259002 -0.19776772 -0.06511209 -0.20270069\n",
      "  -0.19741893 -0.27158818 -0.1898319  -0.1916635   0.12811267 -0.20518516\n",
      "   0.15269208 -0.03743003 -0.2722896  -0.09890818 -0.12203766 -0.1751288\n",
      "  -0.04772985  0.          0.          0.          0.          0.\n",
      "   0.        ]]\n",
      "[[-0.1989958  -0.23381726 -0.12259002 -0.19776772 -0.06511209 -0.20270069\n",
      "  -0.19741893 -0.27158818 -0.1898319  -0.1916635   0.12811267 -0.20518516\n",
      "   0.15269208 -0.03743003 -0.2722896  -0.09890818 -0.12203766 -0.1751288\n",
      "  -0.04772985 -0.19535105  0.          0.          0.          0.\n",
      "   0.        ]]\n",
      "[[-0.1989958  -0.23381726 -0.12259002 -0.19776772 -0.06511209 -0.20270069\n",
      "  -0.19741893 -0.27158818 -0.1898319  -0.1916635   0.12811267 -0.20518516\n",
      "   0.15269208 -0.03743003 -0.2722896  -0.09890818 -0.12203766 -0.1751288\n",
      "  -0.04772985 -0.19535105 -0.03851327  0.          0.          0.\n",
      "   0.        ]]\n",
      "[[-0.1989958  -0.23381726 -0.12259002 -0.19776772 -0.06511209 -0.20270069\n",
      "  -0.19741893 -0.27158818 -0.1898319  -0.1916635   0.12811267 -0.20518516\n",
      "   0.15269208 -0.03743003 -0.2722896  -0.09890818 -0.12203766 -0.1751288\n",
      "  -0.04772985 -0.19535105 -0.03851327 -0.2712706   0.          0.\n",
      "   0.        ]]\n",
      "[[-0.1989958  -0.23381726 -0.12259002 -0.19776772 -0.06511209 -0.20270069\n",
      "  -0.19741893 -0.27158818 -0.1898319  -0.1916635   0.12811267 -0.20518516\n",
      "   0.15269208 -0.03743003 -0.2722896  -0.09890818 -0.12203766 -0.1751288\n",
      "  -0.04772985 -0.19535105 -0.03851327 -0.2712706  -0.14656506  0.\n",
      "   0.        ]]\n",
      "[[-0.1989958  -0.23381726 -0.12259002 -0.19776772 -0.06511209 -0.20270069\n",
      "  -0.19741893 -0.27158818 -0.1898319  -0.1916635   0.12811267 -0.20518516\n",
      "   0.15269208 -0.03743003 -0.2722896  -0.09890818 -0.12203766 -0.1751288\n",
      "  -0.04772985 -0.19535105 -0.03851327 -0.2712706  -0.14656506 -0.14105192\n",
      "   0.        ]]\n"
     ]
    },
    {
     "data": {
      "text/plain": [
       "array([0.        , 0.        , 0.        , 0.        , 0.00796935,\n",
       "       0.01148678, 0.02160214, 0.        , 0.02019272, 0.        ,\n",
       "       0.        , 0.        , 0.        , 0.        , 0.        ,\n",
       "       0.01151447, 0.01062656, 0.        , 0.        , 0.00962229,\n",
       "       0.        , 0.        , 0.        , 0.00463425, 0.        ,\n",
       "       0.00645088, 0.00703455, 0.        , 0.00234648, 0.        ,\n",
       "       0.00901814, 0.        , 0.        , 0.        , 0.        ,\n",
       "       0.        , 0.01012011, 0.        , 0.04057716, 0.        ,\n",
       "       0.        , 0.        , 0.        , 0.02029339, 0.        ,\n",
       "       0.01236252, 0.        , 0.0226581 , 0.00168746, 0.        ])"
      ]
     },
     "execution_count": 17,
     "metadata": {},
     "output_type": "execute_result"
    }
   ],
   "source": [
    "estimator = NNGP(model)  # to estimate uncertainties\n",
    "# oracle = IdentityOracle(y_pool)  # generate y for X from pool\n",
    "# sampler = EagerSampleSelector(oracle) # sample X and y from pool by uncertainty estimations\n",
    "\n",
    "estimator.estimate(sess, X_train, y_train, X_pool)[:50]"
   ]
  },
  {
   "cell_type": "code",
   "execution_count": 21,
   "metadata": {
    "pycharm": {
     "is_executing": false
    },
    "scrolled": true
   },
   "outputs": [
    {
     "name": "stdout",
     "output_type": "stream",
     "text": [
      "[100] RMSE train:191.241 test:188.701 val:188.701 patience:3\n",
      "[200] RMSE train:182.238 test:179.833 val:179.833 patience:3\n",
      "[300] RMSE train:159.539 test:157.416 val:157.416 patience:3\n",
      "[400] RMSE train:118.886 test:117.073 val:117.073 patience:3\n",
      "[500] RMSE train:78.796 test:76.549 val:76.549 patience:3\n",
      "[600] RMSE train:66.604 test:63.424 val:63.424 patience:3\n",
      "[700] RMSE train:65.871 test:62.481 val:62.481 patience:3\n",
      "[800] RMSE train:65.771 test:62.424 val:62.424 patience:3\n",
      "[900] RMSE train:65.674 test:62.407 val:62.407 patience:3\n",
      "[1000] RMSE train:65.572 test:62.392 val:62.392 patience:3\n",
      "[1100] RMSE train:65.465 test:62.378 val:62.378 patience:3\n",
      "[1200] RMSE train:65.354 test:62.365 val:62.365 patience:3\n",
      "[1300] RMSE train:65.240 test:62.353 val:62.353 patience:3\n",
      "[1400] RMSE train:65.122 test:62.343 val:62.343 patience:3\n",
      "[1500] RMSE train:65.001 test:62.335 val:62.335 patience:3\n",
      "[1600] RMSE train:64.879 test:62.330 val:62.330 patience:3\n",
      "[1700] RMSE train:64.754 test:62.326 val:62.326 patience:3\n",
      "[1800] RMSE train:64.628 test:62.325 val:62.325 patience:3\n",
      "[1900] RMSE train:64.500 test:62.328 val:62.328 patience:2\n",
      "[2000] RMSE train:64.372 test:62.333 val:62.333 patience:1\n",
      "[2100] RMSE train:64.243 test:62.341 val:62.341 patience:0\n",
      "No patience left at epoch 2100. Early stopping.\n",
      "[1] BEFORE:\n",
      "shapes: (200, 10) (200, 1)\n",
      "shapes: (200, 10) (200, 1)\n",
      "shapes: (1000, 10) (1000, 1)\n",
      "[1] AFTER:\n",
      "shapes: (210, 10) (210, 1)\n",
      "shapes: (200, 10) (200, 1)\n",
      "shapes: (990, 10) (1000, 1)\n",
      "[100] RMSE train:65.517 test:62.396 val:62.396 patience:3\n",
      "[200] RMSE train:65.349 test:62.438 val:62.438 patience:2\n",
      "[300] RMSE train:65.183 test:62.485 val:62.485 patience:1\n",
      "[400] RMSE train:65.017 test:62.538 val:62.538 patience:0\n",
      "No patience left at epoch 400. Early stopping.\n",
      "[2] BEFORE:\n",
      "shapes: (210, 10) (210, 1)\n",
      "shapes: (200, 10) (200, 1)\n",
      "shapes: (990, 10) (1000, 1)\n",
      "[2] AFTER:\n",
      "shapes: (220, 10) (220, 1)\n",
      "shapes: (200, 10) (200, 1)\n",
      "shapes: (980, 10) (1000, 1)\n",
      "[100] RMSE train:64.929 test:62.584 val:62.584 patience:3\n",
      "[200] RMSE train:64.797 test:62.628 val:62.628 patience:2\n",
      "[300] RMSE train:64.665 test:62.674 val:62.674 patience:1\n",
      "[400] RMSE train:64.533 test:62.723 val:62.723 patience:0\n",
      "No patience left at epoch 400. Early stopping.\n",
      "[3] BEFORE:\n",
      "shapes: (220, 10) (220, 1)\n",
      "shapes: (200, 10) (200, 1)\n",
      "shapes: (980, 10) (1000, 1)\n",
      "[3] AFTER:\n",
      "shapes: (230, 10) (230, 1)\n",
      "shapes: (200, 10) (200, 1)\n",
      "shapes: (970, 10) (1000, 1)\n",
      "[100] RMSE train:64.181 test:62.761 val:62.761 patience:3\n",
      "[200] RMSE train:64.066 test:62.800 val:62.800 patience:2\n",
      "[300] RMSE train:63.952 test:62.840 val:62.840 patience:1\n",
      "[400] RMSE train:63.840 test:62.879 val:62.879 patience:0\n",
      "No patience left at epoch 400. Early stopping.\n",
      "[4] BEFORE:\n",
      "shapes: (230, 10) (230, 1)\n",
      "shapes: (200, 10) (200, 1)\n",
      "shapes: (970, 10) (1000, 1)\n",
      "[4] AFTER:\n",
      "shapes: (240, 10) (240, 1)\n",
      "shapes: (200, 10) (200, 1)\n",
      "shapes: (960, 10) (1000, 1)\n",
      "[100] RMSE train:63.543 test:62.876 val:62.876 patience:3\n",
      "[200] RMSE train:63.451 test:62.872 val:62.872 patience:3\n",
      "[300] RMSE train:63.354 test:62.861 val:62.861 patience:3\n",
      "[400] RMSE train:63.248 test:62.840 val:62.840 patience:3\n",
      "[500] RMSE train:63.141 test:62.817 val:62.817 patience:3\n",
      "[600] RMSE train:63.036 test:62.793 val:62.793 patience:3\n",
      "[700] RMSE train:62.927 test:62.768 val:62.768 patience:3\n",
      "[800] RMSE train:62.814 test:62.741 val:62.741 patience:3\n",
      "[900] RMSE train:62.704 test:62.720 val:62.720 patience:3\n",
      "[1000] RMSE train:62.591 test:62.697 val:62.697 patience:3\n",
      "[1100] RMSE train:62.477 test:62.675 val:62.675 patience:3\n",
      "[1200] RMSE train:62.357 test:62.647 val:62.647 patience:3\n",
      "[1300] RMSE train:62.228 test:62.611 val:62.611 patience:3\n",
      "[1400] RMSE train:62.091 test:62.563 val:62.563 patience:3\n",
      "[1500] RMSE train:61.935 test:62.482 val:62.482 patience:3\n",
      "[1600] RMSE train:61.784 test:62.392 val:62.392 patience:3\n",
      "[1700] RMSE train:61.627 test:62.310 val:62.310 patience:3\n",
      "[1800] RMSE train:61.441 test:62.205 val:62.205 patience:3\n",
      "[1900] RMSE train:61.271 test:62.099 val:62.099 patience:3\n",
      "[2000] RMSE train:61.086 test:62.027 val:62.027 patience:3\n",
      "[2100] RMSE train:60.891 test:61.901 val:61.901 patience:3\n",
      "[2200] RMSE train:60.694 test:61.801 val:61.801 patience:3\n",
      "[2300] RMSE train:60.478 test:61.671 val:61.671 patience:3\n",
      "[2400] RMSE train:60.253 test:61.523 val:61.523 patience:3\n",
      "[2500] RMSE train:60.014 test:61.401 val:61.401 patience:3\n",
      "[2600] RMSE train:59.729 test:61.231 val:61.231 patience:3\n",
      "[2700] RMSE train:59.428 test:61.022 val:61.022 patience:3\n",
      "[2800] RMSE train:59.039 test:60.771 val:60.771 patience:3\n",
      "[2900] RMSE train:58.600 test:60.474 val:60.474 patience:3\n",
      "[3000] RMSE train:58.142 test:60.127 val:60.127 patience:3\n",
      "[3100] RMSE train:57.617 test:59.736 val:59.736 patience:3\n",
      "[3200] RMSE train:56.970 test:59.210 val:59.210 patience:3\n",
      "[3300] RMSE train:56.247 test:58.642 val:58.642 patience:3\n",
      "[3400] RMSE train:55.379 test:57.959 val:57.959 patience:3\n",
      "[3500] RMSE train:54.203 test:57.071 val:57.071 patience:3\n",
      "[3600] RMSE train:52.898 test:55.965 val:55.965 patience:3\n",
      "[3700] RMSE train:51.279 test:54.585 val:54.585 patience:3\n",
      "[3800] RMSE train:49.467 test:53.007 val:53.007 patience:3\n",
      "[3900] RMSE train:47.278 test:51.193 val:51.193 patience:3\n",
      "[4000] RMSE train:44.664 test:48.890 val:48.890 patience:3\n",
      "[4100] RMSE train:41.635 test:46.359 val:46.359 patience:3\n",
      "[4200] RMSE train:38.497 test:43.681 val:43.681 patience:3\n",
      "[4300] RMSE train:35.595 test:41.319 val:41.319 patience:3\n",
      "[4400] RMSE train:32.588 test:38.943 val:38.943 patience:3\n",
      "[4500] RMSE train:30.001 test:36.964 val:36.964 patience:3\n",
      "[4600] RMSE train:27.509 test:35.113 val:35.113 patience:3\n",
      "[4700] RMSE train:25.026 test:33.587 val:33.587 patience:3\n",
      "[4800] RMSE train:23.035 test:32.263 val:32.263 patience:3\n",
      "[4900] RMSE train:21.353 test:31.116 val:31.116 patience:3\n",
      "[5000] RMSE train:19.600 test:29.986 val:29.986 patience:3\n",
      "[5100] RMSE train:18.170 test:29.196 val:29.196 patience:3\n",
      "[5200] RMSE train:17.009 test:28.468 val:28.468 patience:3\n",
      "[5300] RMSE train:16.037 test:27.845 val:27.845 patience:3\n",
      "[5400] RMSE train:15.188 test:27.313 val:27.313 patience:3\n",
      "[5500] RMSE train:14.409 test:26.796 val:26.796 patience:3\n",
      "[5600] RMSE train:13.697 test:26.316 val:26.316 patience:3\n",
      "[5700] RMSE train:13.029 test:25.900 val:25.900 patience:3\n",
      "[5800] RMSE train:12.388 test:25.503 val:25.503 patience:3\n",
      "[5900] RMSE train:11.836 test:25.138 val:25.138 patience:3\n",
      "[6000] RMSE train:11.327 test:24.829 val:24.829 patience:3\n",
      "[6100] RMSE train:10.830 test:24.561 val:24.561 patience:3\n",
      "[6200] RMSE train:10.389 test:24.341 val:24.341 patience:3\n",
      "[6300] RMSE train:9.989 test:24.162 val:24.162 patience:3\n",
      "[6400] RMSE train:9.624 test:24.043 val:24.043 patience:3\n",
      "[6500] RMSE train:9.234 test:23.922 val:23.922 patience:3\n",
      "[6600] RMSE train:8.889 test:23.813 val:23.813 patience:3\n",
      "[6700] RMSE train:8.591 test:23.654 val:23.654 patience:3\n",
      "[6800] RMSE train:8.328 test:23.535 val:23.535 patience:3\n",
      "[6900] RMSE train:8.096 test:23.415 val:23.415 patience:3\n",
      "[7000] RMSE train:7.872 test:23.353 val:23.353 patience:3\n",
      "[7100] RMSE train:7.666 test:23.344 val:23.344 patience:3\n",
      "[7200] RMSE train:7.437 test:23.356 val:23.356 patience:2\n",
      "[7300] RMSE train:7.246 test:23.331 val:23.331 patience:3\n",
      "[7400] RMSE train:7.071 test:23.359 val:23.359 patience:2\n",
      "[7500] RMSE train:6.915 test:23.369 val:23.369 patience:1\n",
      "[7600] RMSE train:6.771 test:23.379 val:23.379 patience:0\n",
      "No patience left at epoch 7600. Early stopping.\n",
      "[5] BEFORE:\n",
      "shapes: (240, 10) (240, 1)\n",
      "shapes: (200, 10) (200, 1)\n",
      "shapes: (960, 10) (1000, 1)\n",
      "[5] AFTER:\n",
      "shapes: (250, 10) (250, 1)\n",
      "shapes: (200, 10) (200, 1)\n",
      "shapes: (950, 10) (1000, 1)\n",
      "[100] RMSE train:8.279 test:23.544 val:23.544 patience:3\n",
      "[200] RMSE train:7.962 test:23.584 val:23.584 patience:2\n",
      "[300] RMSE train:7.706 test:23.594 val:23.594 patience:1\n",
      "[400] RMSE train:7.495 test:23.614 val:23.614 patience:0\n",
      "No patience left at epoch 400. Early stopping.\n",
      "[6] BEFORE:\n",
      "shapes: (250, 10) (250, 1)\n",
      "shapes: (200, 10) (200, 1)\n",
      "shapes: (950, 10) (1000, 1)\n",
      "[6] AFTER:\n",
      "shapes: (260, 10) (260, 1)\n",
      "shapes: (200, 10) (200, 1)\n",
      "shapes: (940, 10) (1000, 1)\n",
      "[100] RMSE train:8.440 test:23.264 val:23.264 patience:3\n",
      "[200] RMSE train:8.040 test:23.236 val:23.236 patience:3\n",
      "[300] RMSE train:7.735 test:23.222 val:23.222 patience:3\n",
      "[400] RMSE train:7.490 test:23.223 val:23.223 patience:2\n"
     ]
    },
    {
     "name": "stdout",
     "output_type": "stream",
     "text": [
      "[500] RMSE train:7.287 test:23.211 val:23.211 patience:3\n",
      "[600] RMSE train:7.101 test:23.211 val:23.211 patience:3\n",
      "[700] RMSE train:6.913 test:23.229 val:23.229 patience:2\n",
      "[800] RMSE train:6.745 test:23.230 val:23.230 patience:1\n",
      "[900] RMSE train:6.591 test:23.216 val:23.216 patience:0\n",
      "No patience left at epoch 900. Early stopping.\n",
      "[7] BEFORE:\n",
      "shapes: (260, 10) (260, 1)\n",
      "shapes: (200, 10) (200, 1)\n",
      "shapes: (940, 10) (1000, 1)\n",
      "[7] AFTER:\n",
      "shapes: (270, 10) (270, 1)\n",
      "shapes: (200, 10) (200, 1)\n",
      "shapes: (930, 10) (1000, 1)\n",
      "[100] RMSE train:7.596 test:22.930 val:22.930 patience:3\n",
      "[200] RMSE train:7.188 test:22.901 val:22.901 patience:3\n",
      "[300] RMSE train:6.894 test:22.940 val:22.940 patience:2\n",
      "[400] RMSE train:6.657 test:22.994 val:22.994 patience:1\n",
      "[500] RMSE train:6.455 test:23.043 val:23.043 patience:0\n",
      "No patience left at epoch 500. Early stopping.\n",
      "[8] BEFORE:\n",
      "shapes: (270, 10) (270, 1)\n",
      "shapes: (200, 10) (200, 1)\n",
      "shapes: (930, 10) (1000, 1)\n",
      "[8] AFTER:\n",
      "shapes: (280, 10) (280, 1)\n",
      "shapes: (200, 10) (200, 1)\n",
      "shapes: (920, 10) (1000, 1)\n",
      "[100] RMSE train:7.858 test:22.587 val:22.587 patience:3\n",
      "[200] RMSE train:7.387 test:22.503 val:22.503 patience:3\n",
      "[300] RMSE train:7.060 test:22.426 val:22.426 patience:3\n",
      "[400] RMSE train:6.810 test:22.355 val:22.355 patience:3\n",
      "[500] RMSE train:6.596 test:22.298 val:22.298 patience:3\n",
      "[600] RMSE train:6.416 test:22.247 val:22.247 patience:3\n",
      "[700] RMSE train:6.241 test:22.217 val:22.217 patience:3\n",
      "[800] RMSE train:6.089 test:22.204 val:22.204 patience:3\n",
      "[900] RMSE train:5.955 test:22.190 val:22.190 patience:3\n",
      "[1000] RMSE train:5.828 test:22.159 val:22.159 patience:3\n",
      "[1100] RMSE train:5.710 test:22.143 val:22.143 patience:3\n",
      "[1200] RMSE train:5.598 test:22.117 val:22.117 patience:3\n",
      "[1300] RMSE train:5.493 test:22.096 val:22.096 patience:3\n",
      "[1400] RMSE train:5.396 test:22.083 val:22.083 patience:3\n",
      "[1500] RMSE train:5.301 test:22.072 val:22.072 patience:3\n",
      "[1600] RMSE train:5.206 test:22.037 val:22.037 patience:3\n",
      "[1700] RMSE train:5.122 test:22.027 val:22.027 patience:3\n",
      "[1800] RMSE train:5.037 test:22.018 val:22.018 patience:3\n",
      "[1900] RMSE train:4.960 test:22.013 val:22.013 patience:3\n",
      "[2000] RMSE train:4.872 test:22.023 val:22.023 patience:2\n",
      "[2100] RMSE train:4.784 test:22.025 val:22.025 patience:1\n",
      "[2200] RMSE train:4.693 test:22.022 val:22.022 patience:0\n",
      "No patience left at epoch 2200. Early stopping.\n",
      "[9] BEFORE:\n",
      "shapes: (280, 10) (280, 1)\n",
      "shapes: (200, 10) (200, 1)\n",
      "shapes: (920, 10) (1000, 1)\n",
      "[9] AFTER:\n",
      "shapes: (290, 10) (290, 1)\n",
      "shapes: (200, 10) (200, 1)\n",
      "shapes: (910, 10) (1000, 1)\n",
      "[100] RMSE train:5.191 test:22.017 val:22.017 patience:3\n",
      "[200] RMSE train:4.992 test:21.979 val:21.979 patience:3\n",
      "[300] RMSE train:4.863 test:21.966 val:21.966 patience:3\n",
      "[400] RMSE train:4.760 test:21.951 val:21.951 patience:3\n",
      "[500] RMSE train:4.675 test:21.937 val:21.937 patience:3\n",
      "[600] RMSE train:4.601 test:21.936 val:21.936 patience:3\n",
      "[700] RMSE train:4.534 test:21.927 val:21.927 patience:3\n",
      "[800] RMSE train:4.472 test:21.927 val:21.927 patience:3\n",
      "[900] RMSE train:4.411 test:21.940 val:21.940 patience:2\n",
      "[1000] RMSE train:4.354 test:21.952 val:21.952 patience:1\n",
      "[1100] RMSE train:4.299 test:21.954 val:21.954 patience:0\n",
      "No patience left at epoch 1100. Early stopping.\n",
      "[10] BEFORE:\n",
      "shapes: (290, 10) (290, 1)\n",
      "shapes: (200, 10) (200, 1)\n",
      "shapes: (910, 10) (1000, 1)\n",
      "[10] AFTER:\n",
      "shapes: (300, 10) (300, 1)\n",
      "shapes: (200, 10) (200, 1)\n",
      "shapes: (900, 10) (1000, 1)\n",
      "[100] RMSE train:4.726 test:21.840 val:21.840 patience:3\n",
      "[200] RMSE train:4.577 test:21.804 val:21.804 patience:3\n",
      "[300] RMSE train:4.460 test:21.807 val:21.807 patience:2\n",
      "[400] RMSE train:4.369 test:21.814 val:21.814 patience:1\n",
      "[500] RMSE train:4.288 test:21.812 val:21.812 patience:0\n",
      "No patience left at epoch 500. Early stopping.\n"
     ]
    }
   ],
   "source": [
    "model.train(sess, X_train, y_train, X_test, y_test, X_test, y_test)\n",
    "\n",
    "rmses = [np.sqrt(mse(model.predict(sess, data=X_test), y_test))]\n",
    "\n",
    "\n",
    "for al_iteration in range(1, config['al_iterations']+1):\n",
    "    note = f'[{al_iteration}] BEFORE:'\n",
    "    print_shapes(note, (X_train, y_train), (X_test, y_test), (X_pool, y_pool))\n",
    "    \n",
    "    # update pool\n",
    "    uncertainties = estimator.estimate(sess, X_train, y_train, X_pool)\n",
    "    X_train, y_train, X_pool = sampler.update_sets(\n",
    "        X_train, y_train, X_pool, uncertainties, config['update_sample_size']\n",
    "    )\n",
    "    \n",
    "    note = f'[{al_iteration}] AFTER:'\n",
    "    print_shapes(note, (X_train, y_train), (X_test, y_test), (X_pool, y_pool))\n",
    "    \n",
    "    # retrain net\n",
    "    model.train(sess, X_train, y_train, X_test, y_test, X_test, y_test)\n",
    "    rmses.append(np.sqrt(mse(model.predict(sess, data=X_test), y_test)))"
   ]
  },
  {
   "cell_type": "code",
   "execution_count": 13,
   "metadata": {
    "pycharm": {
     "is_executing": true
    }
   },
   "outputs": [
    {
     "data": {
      "text/plain": [
       "<matplotlib.legend.Legend at 0x7fa8a40dc5f8>"
      ]
     },
     "execution_count": 13,
     "metadata": {},
     "output_type": "execute_result"
    },
    {
     "data": {
      "image/png": "[encoded data removed]",
      "text/plain": [
       "<Figure size 432x288 with 1 Axes>"
      ]
     },
     "metadata": {
      "needs_background": "light"
     },
     "output_type": "display_data"
    }
   ],
   "source": [
    "plt.plot(rmses, label='NNGP', marker='.')\n",
    "plt.title('RMS Error by active learning iterations')\n",
    "plt.legend()"
   ]
  },
  {
   "cell_type": "code",
   "execution_count": 16,
   "metadata": {},
   "outputs": [
    {
     "name": "stdout",
     "output_type": "stream",
     "text": [
      "[[269.82272]\n",
      " [236.60335]\n",
      " [228.05836]]\n",
      "[[269.35414184]\n",
      " [199.67728249]\n",
      " [197.7762695 ]]\n"
     ]
    }
   ],
   "source": [
    "# Show some predictions\n",
    "print(model.predict(sess, data = X_test[:3]))\n",
    "print(y_test[:3])"
   ]
  },
  {
   "cell_type": "code",
   "execution_count": 27,
   "metadata": {},
   "outputs": [
    {
     "data": {
      "text/plain": [
       "array([160.86413073, 235.44600944, 191.88563576])"
      ]
     },
     "execution_count": 27,
     "metadata": {},
     "output_type": "execute_result"
    }
   ],
   "source": [
    "# show some uncertainties\n",
    "estimator.estimate(sess, X_pool)[:3]"
   ]
  },
  {
   "cell_type": "code",
   "execution_count": null,
   "metadata": {},
   "outputs": [],
   "source": []
  }
 ],
 "metadata": {
  "kernelspec": {
   "display_name": "Python 3",
   "language": "python",
   "name": "python3"
  },
  "language_info": {
   "codemirror_mode": {
    "name": "ipython",
    "version": 3
   },
   "file_extension": ".py",
   "mimetype": "text/x-python",
   "name": "python",
   "nbconvert_exporter": "python",
   "pygments_lexer": "ipython3",
   "version": "3.7.3"
  },
  "pycharm": {
   "stem_cell": {
    "cell_type": "raw",
    "metadata": {
     "collapsed": false
    },
    "source": []
   }
  }
 },
 "nbformat": 4,
 "nbformat_minor": 2
}
