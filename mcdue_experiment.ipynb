{
 "cells": [
  {
   "cell_type": "code",
   "execution_count": 1,
   "metadata": {
    "pycharm": {
     "is_executing": false
    }
   },
   "outputs": [],
   "source": [
    "%load_ext autoreload\n",
    "%autoreload 2"
   ]
  },
  {
   "cell_type": "code",
   "execution_count": 7,
   "metadata": {},
   "outputs": [],
   "source": [
    "import numpy as np\n",
    "import tensorflow as tf\n",
    "from sklearn.metrics import mean_squared_error as mse\n",
    "import matplotlib.pyplot as plt\n",
    "\n",
    "from model.mlp import MLP\n",
    "from dataloader.rosen import RosenData\n",
    "from uncertainty_estimator.mcdue import MCDUE\n",
    "from sample_selector.eager import EagerSampleSelector\n",
    "from oracle.identity import IdentityOracle\n"
   ]
  },
  {
   "cell_type": "code",
   "execution_count": 8,
   "metadata": {
    "pycharm": {
     "is_executing": false
    }
   },
   "outputs": [],
   "source": [
    "config = {\n",
    "    'random_state': 4623457,\n",
    "    'n_dim': 10,\n",
    "    'n_train': 200,\n",
    "    'n_test': 200,\n",
    "    'n_pool': 1000,\n",
    "    'layers': [128, 64, 32],\n",
    "    'update_sample_size': 10,\n",
    "    'al_iterations': 10\n",
    "}\n",
    "\n",
    "np.random.seed(config['random_state'])"
   ]
  },
  {
   "cell_type": "code",
   "execution_count": 9,
   "metadata": {
    "pycharm": {
     "is_executing": false
    }
   },
   "outputs": [
    {
     "name": "stdout",
     "output_type": "stream",
     "text": [
      "\n",
      "shapes: (200, 10) (200, 1)\n",
      "shapes: (200, 10) (200, 1)\n",
      "shapes: (1000, 10) (1000, 1)\n"
     ]
    }
   ],
   "source": [
    "def print_shapes(note, *sets):\n",
    "    print(note)\n",
    "    for x, y in sets:\n",
    "        print(\"shapes:\", x.shape, y.shape)\n",
    "\n",
    "# load data\n",
    "X_train, y_train, _, _, X_test, y_test, X_pool, y_pool = RosenData(\n",
    "    config['n_train'], 0, config['n_test'], config['n_pool'], config['n_dim']\n",
    ").dataset()\n",
    "\n",
    "print_shapes('', (X_train, y_train), (X_test, y_test), (X_pool, y_pool))"
   ]
  },
  {
   "cell_type": "code",
   "execution_count": 12,
   "metadata": {
    "pycharm": {
     "is_executing": false
    }
   },
   "outputs": [],
   "source": [
    "# Init neural network & tf session\n",
    "\n",
    "tf.reset_default_graph()\n",
    "\n",
    "model = MLP(\n",
    "    ndim = config['n_dim'],\n",
    "    random_state = config['random_state'],\n",
    "    layers = config['layers']\n",
    ")\n",
    "\n",
    "try:\n",
    "    sess.close()\n",
    "except:\n",
    "    pass\n",
    "session_config = tf.ConfigProto()\n",
    "session_config.gpu_options.allow_growth = True\n",
    "\n",
    "init = tf.global_variables_initializer()\n",
    "sess = tf.Session(config=session_config)\n",
    "sess.run(init)"
   ]
  },
  {
   "cell_type": "code",
   "execution_count": 13,
   "metadata": {
    "scrolled": true
   },
   "outputs": [],
   "source": [
    "estimator = MCDUE(model)  # uncertainty estimator\n",
    "oracle = IdentityOracle(y_pool)  # generate y for X rom pool\n",
    "sampler = EagerSampleSelector(oracle) # sample X and y from pool by uncertainty estimations"
   ]
  },
  {
   "cell_type": "code",
   "execution_count": 14,
   "metadata": {
    "pycharm": {
     "is_executing": false
    },
    "scrolled": true
   },
   "outputs": [
    {
     "name": "stdout",
     "output_type": "stream",
     "text": [
      "[100] RMSE train:187.605 test:192.500 val:192.500 patience:3\n",
      "[200] RMSE train:183.371 test:188.157 val:188.157 patience:3\n",
      "[300] RMSE train:172.383 test:176.868 val:176.868 patience:3\n",
      "[400] RMSE train:149.326 test:153.179 val:153.179 patience:3\n",
      "[500] RMSE train:113.887 test:116.902 val:116.902 patience:3\n",
      "[600] RMSE train:79.569 test:82.290 val:82.290 patience:3\n",
      "[700] RMSE train:65.705 test:69.015 val:69.015 patience:3\n",
      "[800] RMSE train:64.066 test:67.756 val:67.756 patience:3\n",
      "[900] RMSE train:63.895 test:67.695 val:67.695 patience:3\n",
      "[1000] RMSE train:63.773 test:67.620 val:67.620 patience:3\n",
      "[1100] RMSE train:63.645 test:67.533 val:67.533 patience:3\n",
      "[1200] RMSE train:63.511 test:67.441 val:67.441 patience:3\n",
      "[1300] RMSE train:63.371 test:67.345 val:67.345 patience:3\n",
      "[1400] RMSE train:63.227 test:67.247 val:67.247 patience:3\n",
      "[1500] RMSE train:63.078 test:67.145 val:67.145 patience:3\n",
      "[1600] RMSE train:62.925 test:67.042 val:67.042 patience:3\n",
      "[1700] RMSE train:62.769 test:66.936 val:66.936 patience:3\n",
      "[1800] RMSE train:62.609 test:66.829 val:66.829 patience:3\n",
      "[1900] RMSE train:62.447 test:66.721 val:66.721 patience:3\n",
      "[2000] RMSE train:62.283 test:66.612 val:66.612 patience:3\n",
      "[2100] RMSE train:62.118 test:66.503 val:66.503 patience:3\n",
      "[2200] RMSE train:61.952 test:66.394 val:66.394 patience:3\n",
      "[2300] RMSE train:61.785 test:66.286 val:66.286 patience:3\n",
      "[2400] RMSE train:61.619 test:66.179 val:66.179 patience:3\n",
      "[2500] RMSE train:61.453 test:66.073 val:66.073 patience:3\n",
      "[2600] RMSE train:61.289 test:65.969 val:65.969 patience:3\n",
      "[2700] RMSE train:61.127 test:65.868 val:65.868 patience:3\n",
      "[2800] RMSE train:60.967 test:65.769 val:65.769 patience:3\n",
      "[2900] RMSE train:60.811 test:65.674 val:65.674 patience:3\n",
      "[3000] RMSE train:60.658 test:65.582 val:65.582 patience:3\n",
      "[3100] RMSE train:60.510 test:65.495 val:65.495 patience:3\n",
      "[3200] RMSE train:60.366 test:65.412 val:65.412 patience:3\n",
      "[3300] RMSE train:60.228 test:65.333 val:65.333 patience:3\n",
      "[3400] RMSE train:60.095 test:65.260 val:65.260 patience:3\n",
      "[3500] RMSE train:59.968 test:65.191 val:65.191 patience:3\n",
      "[3600] RMSE train:59.847 test:65.129 val:65.129 patience:3\n",
      "[3700] RMSE train:59.733 test:65.070 val:65.070 patience:3\n",
      "[3800] RMSE train:59.624 test:65.017 val:65.017 patience:3\n",
      "[3900] RMSE train:59.522 test:64.968 val:64.968 patience:3\n",
      "[4000] RMSE train:59.426 test:64.924 val:64.924 patience:3\n",
      "[4100] RMSE train:59.336 test:64.883 val:64.883 patience:3\n",
      "[4200] RMSE train:59.251 test:64.847 val:64.847 patience:3\n",
      "[4300] RMSE train:59.172 test:64.813 val:64.813 patience:3\n",
      "[4400] RMSE train:59.097 test:64.782 val:64.782 patience:3\n",
      "[4500] RMSE train:59.026 test:64.754 val:64.754 patience:3\n",
      "[4600] RMSE train:58.959 test:64.728 val:64.728 patience:3\n",
      "[4700] RMSE train:58.896 test:64.703 val:64.703 patience:3\n",
      "[4800] RMSE train:58.835 test:64.679 val:64.679 patience:3\n",
      "[4900] RMSE train:58.778 test:64.656 val:64.656 patience:3\n",
      "[5000] RMSE train:58.722 test:64.634 val:64.634 patience:3\n",
      "[5100] RMSE train:58.665 test:64.612 val:64.612 patience:3\n",
      "[5200] RMSE train:58.602 test:64.588 val:64.588 patience:3\n",
      "[5300] RMSE train:58.549 test:64.566 val:64.566 patience:3\n",
      "[5400] RMSE train:58.498 test:64.543 val:64.543 patience:3\n",
      "[5500] RMSE train:58.451 test:64.524 val:64.524 patience:3\n",
      "[5600] RMSE train:58.405 test:64.507 val:64.507 patience:3\n",
      "[5700] RMSE train:58.361 test:64.490 val:64.490 patience:3\n",
      "[5800] RMSE train:58.318 test:64.475 val:64.475 patience:3\n",
      "[5900] RMSE train:58.276 test:64.463 val:64.463 patience:3\n",
      "[6000] RMSE train:58.231 test:64.452 val:64.452 patience:3\n",
      "[6100] RMSE train:58.181 test:64.444 val:64.444 patience:3\n",
      "[6200] RMSE train:58.123 test:64.415 val:64.415 patience:3\n",
      "[6300] RMSE train:58.058 test:64.376 val:64.376 patience:3\n",
      "[6400] RMSE train:57.996 test:64.358 val:64.358 patience:3\n",
      "[6500] RMSE train:57.938 test:64.351 val:64.351 patience:3\n",
      "[6600] RMSE train:57.851 test:64.314 val:64.314 patience:3\n",
      "[6700] RMSE train:57.771 test:64.258 val:64.258 patience:3\n",
      "[6800] RMSE train:57.704 test:64.232 val:64.232 patience:3\n",
      "[6900] RMSE train:57.632 test:64.204 val:64.204 patience:3\n",
      "[7000] RMSE train:57.552 test:64.172 val:64.172 patience:3\n",
      "[7100] RMSE train:57.470 test:64.140 val:64.140 patience:3\n",
      "[7200] RMSE train:57.384 test:64.100 val:64.100 patience:3\n",
      "[7300] RMSE train:57.285 test:64.055 val:64.055 patience:3\n",
      "[7400] RMSE train:57.174 test:64.002 val:64.002 patience:3\n",
      "[7500] RMSE train:57.042 test:63.945 val:63.945 patience:3\n",
      "[7600] RMSE train:56.898 test:63.880 val:63.880 patience:3\n",
      "[7700] RMSE train:56.735 test:63.802 val:63.802 patience:3\n",
      "[7800] RMSE train:56.521 test:63.739 val:63.739 patience:3\n",
      "[7900] RMSE train:56.280 test:63.591 val:63.591 patience:3\n",
      "[8000] RMSE train:56.019 test:63.437 val:63.437 patience:3\n",
      "[8100] RMSE train:55.694 test:63.225 val:63.225 patience:3\n",
      "[8200] RMSE train:55.325 test:63.021 val:63.021 patience:3\n",
      "[8300] RMSE train:54.887 test:62.762 val:62.762 patience:3\n",
      "[8400] RMSE train:54.322 test:62.418 val:62.418 patience:3\n",
      "[8500] RMSE train:53.605 test:62.044 val:62.044 patience:3\n",
      "[8600] RMSE train:52.783 test:61.572 val:61.572 patience:3\n",
      "[8700] RMSE train:51.768 test:60.971 val:60.971 patience:3\n",
      "[8800] RMSE train:50.524 test:60.227 val:60.227 patience:3\n",
      "[8900] RMSE train:48.787 test:59.195 val:59.195 patience:3\n",
      "[9000] RMSE train:46.934 test:57.996 val:57.996 patience:3\n",
      "[9100] RMSE train:44.812 test:56.561 val:56.561 patience:3\n",
      "[9200] RMSE train:42.025 test:54.735 val:54.735 patience:3\n",
      "[9300] RMSE train:38.785 test:52.373 val:52.373 patience:3\n",
      "[9400] RMSE train:36.006 test:50.209 val:50.209 patience:3\n",
      "[9500] RMSE train:33.163 test:48.102 val:48.102 patience:3\n",
      "[9600] RMSE train:30.553 test:46.274 val:46.274 patience:3\n",
      "[9700] RMSE train:28.306 test:44.564 val:44.564 patience:3\n",
      "[9800] RMSE train:26.259 test:43.170 val:43.170 patience:3\n",
      "[9900] RMSE train:24.434 test:42.040 val:42.040 patience:3\n",
      "[10000] RMSE train:22.809 test:41.068 val:41.068 patience:3\n",
      "[1] BEFORE:\n",
      "shapes: (200, 10) (200, 1)\n",
      "shapes: (200, 10) (200, 1)\n",
      "shapes: (1000, 10) (1000, 1)\n",
      "[1] AFTER:\n",
      "shapes: (210, 10) (210, 1)\n",
      "shapes: (200, 10) (200, 1)\n",
      "shapes: (990, 10) (1000, 1)\n",
      "[100] RMSE train:22.433 test:40.080 val:40.080 patience:3\n",
      "[200] RMSE train:20.868 test:39.189 val:39.189 patience:3\n",
      "[300] RMSE train:19.630 test:38.456 val:38.456 patience:3\n",
      "[400] RMSE train:18.519 test:37.799 val:37.799 patience:3\n",
      "[500] RMSE train:17.540 test:37.190 val:37.190 patience:3\n",
      "[600] RMSE train:16.606 test:36.528 val:36.528 patience:3\n",
      "[700] RMSE train:15.707 test:35.992 val:35.992 patience:3\n",
      "[800] RMSE train:14.899 test:35.535 val:35.535 patience:3\n",
      "[900] RMSE train:14.171 test:35.196 val:35.196 patience:3\n",
      "[1000] RMSE train:13.500 test:34.902 val:34.902 patience:3\n",
      "[1100] RMSE train:12.871 test:34.614 val:34.614 patience:3\n",
      "[1200] RMSE train:12.311 test:34.298 val:34.298 patience:3\n",
      "[1300] RMSE train:11.797 test:34.029 val:34.029 patience:3\n",
      "[1400] RMSE train:11.318 test:33.882 val:33.882 patience:3\n",
      "[1500] RMSE train:10.798 test:33.775 val:33.775 patience:3\n",
      "[1600] RMSE train:10.275 test:33.716 val:33.716 patience:3\n",
      "[1700] RMSE train:9.830 test:33.630 val:33.630 patience:3\n",
      "[1800] RMSE train:9.425 test:33.547 val:33.547 patience:3\n",
      "[1900] RMSE train:9.020 test:33.434 val:33.434 patience:3\n",
      "[2000] RMSE train:8.639 test:33.362 val:33.362 patience:3\n",
      "[2100] RMSE train:8.304 test:33.300 val:33.300 patience:3\n",
      "[2200] RMSE train:8.018 test:33.252 val:33.252 patience:3\n",
      "[2300] RMSE train:7.753 test:33.162 val:33.162 patience:3\n",
      "[2400] RMSE train:7.501 test:33.138 val:33.138 patience:3\n",
      "[2500] RMSE train:7.231 test:33.094 val:33.094 patience:3\n",
      "[2600] RMSE train:6.980 test:33.077 val:33.077 patience:3\n",
      "[2700] RMSE train:6.741 test:33.081 val:33.081 patience:2\n",
      "[2800] RMSE train:6.514 test:33.051 val:33.051 patience:3\n",
      "[2900] RMSE train:6.294 test:33.037 val:33.037 patience:3\n",
      "[3000] RMSE train:6.080 test:33.015 val:33.015 patience:3\n",
      "[3100] RMSE train:5.882 test:32.982 val:32.982 patience:3\n",
      "[3200] RMSE train:5.696 test:32.942 val:32.942 patience:3\n",
      "[3300] RMSE train:5.523 test:32.882 val:32.882 patience:3\n",
      "[3400] RMSE train:5.336 test:32.863 val:32.863 patience:3\n",
      "[3500] RMSE train:5.148 test:32.825 val:32.825 patience:3\n",
      "[3600] RMSE train:4.967 test:32.772 val:32.772 patience:3\n",
      "[3700] RMSE train:4.792 test:32.789 val:32.789 patience:2\n",
      "[3800] RMSE train:4.620 test:32.740 val:32.740 patience:3\n"
     ]
    },
    {
     "name": "stdout",
     "output_type": "stream",
     "text": [
      "[3900] RMSE train:4.454 test:32.764 val:32.764 patience:2\n",
      "[4000] RMSE train:4.292 test:32.730 val:32.730 patience:3\n",
      "[4100] RMSE train:4.141 test:32.730 val:32.730 patience:2\n",
      "[4200] RMSE train:3.994 test:32.685 val:32.685 patience:3\n",
      "[4300] RMSE train:3.846 test:32.619 val:32.619 patience:3\n",
      "[4400] RMSE train:3.702 test:32.543 val:32.543 patience:3\n",
      "[4500] RMSE train:3.568 test:32.560 val:32.560 patience:2\n",
      "[4600] RMSE train:3.432 test:32.511 val:32.511 patience:3\n",
      "[4700] RMSE train:3.308 test:32.505 val:32.505 patience:3\n",
      "[4800] RMSE train:3.188 test:32.483 val:32.483 patience:3\n",
      "[4900] RMSE train:3.077 test:32.474 val:32.474 patience:3\n",
      "[5000] RMSE train:2.977 test:32.477 val:32.477 patience:2\n",
      "[5100] RMSE train:2.881 test:32.443 val:32.443 patience:3\n",
      "[5200] RMSE train:2.789 test:32.415 val:32.415 patience:3\n",
      "[5300] RMSE train:2.700 test:32.411 val:32.411 patience:3\n",
      "[5400] RMSE train:2.615 test:32.405 val:32.405 patience:3\n",
      "[5500] RMSE train:2.533 test:32.401 val:32.401 patience:3\n",
      "[5600] RMSE train:2.453 test:32.360 val:32.360 patience:3\n",
      "[5700] RMSE train:2.383 test:32.346 val:32.346 patience:3\n",
      "[5800] RMSE train:2.308 test:32.356 val:32.356 patience:2\n",
      "[5900] RMSE train:2.230 test:32.368 val:32.368 patience:1\n",
      "[6000] RMSE train:2.158 test:32.416 val:32.416 patience:0\n",
      "No patience left at epoch 6000. Early stopping.\n",
      "[2] BEFORE:\n",
      "shapes: (210, 10) (210, 1)\n",
      "shapes: (200, 10) (200, 1)\n",
      "shapes: (990, 10) (1000, 1)\n",
      "[2] AFTER:\n",
      "shapes: (220, 10) (220, 1)\n",
      "shapes: (200, 10) (200, 1)\n",
      "shapes: (980, 10) (1000, 1)\n",
      "[100] RMSE train:7.725 test:31.174 val:31.174 patience:3\n",
      "[200] RMSE train:6.409 test:30.834 val:30.834 patience:3\n",
      "[300] RMSE train:5.676 test:30.657 val:30.657 patience:3\n",
      "[400] RMSE train:5.096 test:30.641 val:30.641 patience:3\n",
      "[500] RMSE train:4.639 test:30.642 val:30.642 patience:2\n",
      "[600] RMSE train:4.288 test:30.621 val:30.621 patience:3\n",
      "[700] RMSE train:3.995 test:30.660 val:30.660 patience:2\n",
      "[800] RMSE train:3.742 test:30.671 val:30.671 patience:1\n",
      "[900] RMSE train:3.527 test:30.664 val:30.664 patience:0\n",
      "No patience left at epoch 900. Early stopping.\n",
      "[3] BEFORE:\n",
      "shapes: (220, 10) (220, 1)\n",
      "shapes: (200, 10) (200, 1)\n",
      "shapes: (980, 10) (1000, 1)\n",
      "[3] AFTER:\n",
      "shapes: (230, 10) (230, 1)\n",
      "shapes: (200, 10) (200, 1)\n",
      "shapes: (970, 10) (1000, 1)\n",
      "[100] RMSE train:6.044 test:30.550 val:30.550 patience:3\n",
      "[200] RMSE train:5.521 test:30.596 val:30.596 patience:2\n",
      "[300] RMSE train:5.114 test:30.563 val:30.563 patience:1\n",
      "[400] RMSE train:4.773 test:30.550 val:30.550 patience:0\n",
      "No patience left at epoch 400. Early stopping.\n",
      "[4] BEFORE:\n",
      "shapes: (230, 10) (230, 1)\n",
      "shapes: (200, 10) (200, 1)\n",
      "shapes: (970, 10) (1000, 1)\n",
      "[4] AFTER:\n",
      "shapes: (240, 10) (240, 1)\n",
      "shapes: (200, 10) (200, 1)\n",
      "shapes: (960, 10) (1000, 1)\n",
      "[100] RMSE train:8.599 test:29.868 val:29.868 patience:3\n",
      "[200] RMSE train:7.633 test:29.731 val:29.731 patience:3\n",
      "[300] RMSE train:6.948 test:29.563 val:29.563 patience:3\n",
      "[400] RMSE train:6.414 test:29.429 val:29.429 patience:3\n",
      "[500] RMSE train:5.966 test:29.380 val:29.380 patience:3\n",
      "[600] RMSE train:5.528 test:29.290 val:29.290 patience:3\n",
      "[700] RMSE train:5.183 test:29.203 val:29.203 patience:3\n",
      "[800] RMSE train:4.879 test:29.169 val:29.169 patience:3\n",
      "[900] RMSE train:4.617 test:29.185 val:29.185 patience:2\n",
      "[1000] RMSE train:4.369 test:29.191 val:29.191 patience:1\n",
      "[1100] RMSE train:4.148 test:29.194 val:29.194 patience:0\n",
      "No patience left at epoch 1100. Early stopping.\n",
      "[5] BEFORE:\n",
      "shapes: (240, 10) (240, 1)\n",
      "shapes: (200, 10) (200, 1)\n",
      "shapes: (960, 10) (1000, 1)\n",
      "[5] AFTER:\n",
      "shapes: (250, 10) (250, 1)\n",
      "shapes: (200, 10) (200, 1)\n",
      "shapes: (950, 10) (1000, 1)\n",
      "[100] RMSE train:11.801 test:27.549 val:27.549 patience:3\n",
      "[200] RMSE train:10.766 test:27.482 val:27.482 patience:3\n",
      "[300] RMSE train:10.030 test:27.580 val:27.580 patience:2\n",
      "[400] RMSE train:9.439 test:27.636 val:27.636 patience:1\n",
      "[500] RMSE train:8.906 test:27.730 val:27.730 patience:0\n",
      "No patience left at epoch 500. Early stopping.\n",
      "[6] BEFORE:\n",
      "shapes: (250, 10) (250, 1)\n",
      "shapes: (200, 10) (200, 1)\n",
      "shapes: (950, 10) (1000, 1)\n",
      "[6] AFTER:\n",
      "shapes: (260, 10) (260, 1)\n",
      "shapes: (200, 10) (200, 1)\n",
      "shapes: (940, 10) (1000, 1)\n",
      "[100] RMSE train:9.839 test:27.468 val:27.468 patience:3\n",
      "[200] RMSE train:9.102 test:27.425 val:27.425 patience:3\n",
      "[300] RMSE train:8.523 test:27.446 val:27.446 patience:2\n",
      "[400] RMSE train:8.022 test:27.503 val:27.503 patience:1\n",
      "[500] RMSE train:7.609 test:27.559 val:27.559 patience:0\n",
      "No patience left at epoch 500. Early stopping.\n",
      "[7] BEFORE:\n",
      "shapes: (260, 10) (260, 1)\n",
      "shapes: (200, 10) (200, 1)\n",
      "shapes: (940, 10) (1000, 1)\n",
      "[7] AFTER:\n",
      "shapes: (270, 10) (270, 1)\n",
      "shapes: (200, 10) (200, 1)\n",
      "shapes: (930, 10) (1000, 1)\n",
      "[100] RMSE train:8.073 test:27.469 val:27.469 patience:3\n",
      "[200] RMSE train:7.634 test:27.458 val:27.458 patience:3\n",
      "[300] RMSE train:7.282 test:27.531 val:27.531 patience:2\n",
      "[400] RMSE train:6.981 test:27.588 val:27.588 patience:1\n",
      "[500] RMSE train:6.709 test:27.605 val:27.605 patience:0\n",
      "No patience left at epoch 500. Early stopping.\n",
      "[8] BEFORE:\n",
      "shapes: (270, 10) (270, 1)\n",
      "shapes: (200, 10) (200, 1)\n",
      "shapes: (930, 10) (1000, 1)\n",
      "[8] AFTER:\n",
      "shapes: (280, 10) (280, 1)\n",
      "shapes: (200, 10) (200, 1)\n",
      "shapes: (920, 10) (1000, 1)\n",
      "[100] RMSE train:7.140 test:27.573 val:27.573 patience:3\n",
      "[200] RMSE train:6.797 test:27.604 val:27.604 patience:2\n",
      "[300] RMSE train:6.507 test:27.599 val:27.599 patience:1\n",
      "[400] RMSE train:6.246 test:27.612 val:27.612 patience:0\n",
      "No patience left at epoch 400. Early stopping.\n",
      "[9] BEFORE:\n",
      "shapes: (280, 10) (280, 1)\n",
      "shapes: (200, 10) (200, 1)\n",
      "shapes: (920, 10) (1000, 1)\n",
      "[9] AFTER:\n",
      "shapes: (290, 10) (290, 1)\n",
      "shapes: (200, 10) (200, 1)\n",
      "shapes: (910, 10) (1000, 1)\n",
      "[100] RMSE train:7.368 test:27.507 val:27.507 patience:3\n",
      "[200] RMSE train:6.912 test:27.517 val:27.517 patience:2\n",
      "[300] RMSE train:6.561 test:27.525 val:27.525 patience:1\n",
      "[400] RMSE train:6.261 test:27.554 val:27.554 patience:0\n",
      "No patience left at epoch 400. Early stopping.\n",
      "[10] BEFORE:\n",
      "shapes: (290, 10) (290, 1)\n",
      "shapes: (200, 10) (200, 1)\n",
      "shapes: (910, 10) (1000, 1)\n",
      "[10] AFTER:\n",
      "shapes: (300, 10) (300, 1)\n",
      "shapes: (200, 10) (200, 1)\n",
      "shapes: (900, 10) (1000, 1)\n",
      "[100] RMSE train:6.572 test:27.412 val:27.412 patience:3\n",
      "[200] RMSE train:6.227 test:27.395 val:27.395 patience:3\n",
      "[300] RMSE train:5.950 test:27.424 val:27.424 patience:2\n",
      "[400] RMSE train:5.694 test:27.428 val:27.428 patience:1\n",
      "[500] RMSE train:5.462 test:27.444 val:27.444 patience:0\n",
      "No patience left at epoch 500. Early stopping.\n"
     ]
    }
   ],
   "source": [
    "model.train(sess, X_train, y_train, X_test, y_test, X_test, y_test)\n",
    "\n",
    "rmses = [np.sqrt(mse(model.predict(sess, data=X_test), y_test))]\n",
    "\n",
    "\n",
    "for al_iteration in range(1, config['al_iterations']+1):\n",
    "    note = f'[{al_iteration}] BEFORE:'\n",
    "    print_shapes(note, (X_train, y_train), (X_test, y_test), (X_pool, y_pool))\n",
    "    \n",
    "    # update pool\n",
    "    uncertainties = estimator.estimate(sess, X_pool)\n",
    "    X_train, y_train, X_pool = sampler.update_sets(\n",
    "        X_train, y_train, X_pool, uncertainties, config['update_sample_size']\n",
    "    )\n",
    "    \n",
    "    note = f'[{al_iteration}] AFTER:'\n",
    "    print_shapes(note, (X_train, y_train), (X_test, y_test), (X_pool, y_pool))\n",
    "    \n",
    "    # retrain net\n",
    "    model.train(sess, X_train, y_train, X_test, y_test, X_test, y_test)\n",
    "    rmses.append(np.sqrt(mse(model.predict(sess, data=X_test), y_test)))"
   ]
  },
  {
   "cell_type": "code",
   "execution_count": 30,
   "metadata": {
    "pycharm": {
     "is_executing": true
    }
   },
   "outputs": [
    {
     "data": {
      "text/plain": [
       "<matplotlib.legend.Legend at 0x7ff1b43a5400>"
      ]
     },
     "execution_count": 30,
     "metadata": {},
     "output_type": "execute_result"
    },
    {
     "data": {
      "image/png": "[encoded data removed]",
      "text/plain": [
       "<Figure size 432x288 with 1 Axes>"
      ]
     },
     "metadata": {
      "needs_background": "light"
     },
     "output_type": "display_data"
    }
   ],
   "source": [
    "plt.plot(rmses, label='MCDUE')\n",
    "plt.title('RMS Error by active learning iterations')\n",
    "plt.legend()"
   ]
  },
  {
   "cell_type": "code",
   "execution_count": 16,
   "metadata": {},
   "outputs": [
    {
     "name": "stdout",
     "output_type": "stream",
     "text": [
      "[[269.82272]\n",
      " [236.60335]\n",
      " [228.05836]]\n",
      "[[269.35414184]\n",
      " [199.67728249]\n",
      " [197.7762695 ]]\n"
     ]
    }
   ],
   "source": [
    "# Show some predictions\n",
    "print(model.predict(sess, data = X_test[:3]))\n",
    "print(y_test[:3])"
   ]
  },
  {
   "cell_type": "code",
   "execution_count": 27,
   "metadata": {},
   "outputs": [
    {
     "data": {
      "text/plain": [
       "array([160.86413073, 235.44600944, 191.88563576])"
      ]
     },
     "execution_count": 27,
     "metadata": {},
     "output_type": "execute_result"
    }
   ],
   "source": [
    "# show some uncertainties\n",
    "estimator.estimate(sess, X_pool)[:3]"
   ]
  },
  {
   "cell_type": "code",
   "execution_count": null,
   "metadata": {},
   "outputs": [],
   "source": []
  }
 ],
 "metadata": {
  "kernelspec": {
   "display_name": "Python 3",
   "language": "python",
   "name": "python3"
  },
  "language_info": {
   "codemirror_mode": {
    "name": "ipython",
    "version": 3
   },
   "file_extension": ".py",
   "mimetype": "text/x-python",
   "name": "python",
   "nbconvert_exporter": "python",
   "pygments_lexer": "ipython3",
   "version": "3.7.3"
  },
  "pycharm": {
   "stem_cell": {
    "cell_type": "raw",
    "metadata": {
     "collapsed": false
    },
    "source": []
   }
  }
 },
 "nbformat": 4,
 "nbformat_minor": 2
}
