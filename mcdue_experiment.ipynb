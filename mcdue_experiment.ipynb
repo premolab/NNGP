{
 "cells": [
  {
   "cell_type": "code",
   "execution_count": 1,
   "metadata": {
    "pycharm": {
     "is_executing": false
    }
   },
   "outputs": [],
   "source": [
    "%load_ext autoreload\n",
    "%autoreload 2"
   ]
  },
  {
   "cell_type": "code",
   "execution_count": 10,
   "metadata": {},
   "outputs": [
    {
     "name": "stdout",
     "output_type": "stream",
     "text": [
      "CPU times: user 12 µs, sys: 2 µs, total: 14 µs\n",
      "Wall time: 15.3 µs\n"
     ]
    }
   ],
   "source": [
    "%%time\n",
    "from nngp import NN\n",
    "from dataloader.rosen import RosenData \n",
    "import numpy as np\n",
    "import tensorflow as tf"
   ]
  },
  {
   "cell_type": "code",
   "execution_count": 11,
   "metadata": {
    "pycharm": {
     "is_executing": false
    }
   },
   "outputs": [],
   "source": [
    "config = {\n",
    "    'random_state': 4623457,\n",
    "    'ndim': 10,\n",
    "    'N_train': 200,\n",
    "    'N_test': 200,\n",
    "    'N_pool': 1000,\n",
    "    'layers': [128, 64, 32]\n",
    "}\n",
    "\n"
   ]
  },
  {
   "cell_type": "code",
   "execution_count": 12,
   "metadata": {},
   "outputs": [],
   "source": [
    "np.random.seed(config['random_state'])"
   ]
  },
  {
   "cell_type": "code",
   "execution_count": 13,
   "metadata": {
    "pycharm": {
     "is_executing": false
    }
   },
   "outputs": [
    {
     "name": "stdout",
     "output_type": "stream",
     "text": [
      "shapes: (200, 10) (200, 1)\n",
      "shapes: (200, 10) (200, 1)\n",
      "shapes: (1000, 10) (1000, 1)\n"
     ]
    }
   ],
   "source": [
    "X_train, y_train, _, _, X_test, y_test, X_pool, y_pool = RosenData(\n",
    "    config['N_train'], 0, config['N_test'], config['N_pool'], config['ndim']\n",
    ").dataset()\n",
    "\n",
    "print('shapes:', X_train.shape, y_train.shape)\n",
    "print('shapes:', X_test.shape, y_test.shape)\n",
    "print('shapes:', X_pool.shape, y_pool.shape)"
   ]
  },
  {
   "cell_type": "code",
   "execution_count": 19,
   "metadata": {
    "pycharm": {
     "is_executing": false
    }
   },
   "outputs": [],
   "source": [
    "# tf.reset_default_graph()\n",
    "# nn = NN(\n",
    "#     ndim = config['ndim'],\n",
    "#     random_state = config['random_state'],\n",
    "#     layers = config['layers']\n",
    "# )\n",
    "tf.reset_default_graph()\n",
    "from model.mlp import MLP\n",
    "\n",
    "nn = MLP(\n",
    "    ndim = config['ndim'],\n",
    "    random_state = config['random_state'],\n",
    "    layers = config['layers']\n",
    ")"
   ]
  },
  {
   "cell_type": "code",
   "execution_count": 20,
   "metadata": {
    "pycharm": {
     "is_executing": false
    }
   },
   "outputs": [],
   "source": [
    "try:\n",
    "    sess.close()\n",
    "except:\n",
    "    pass\n",
    "# a setting for my cluster; ignore it\n",
    "session_config = tf.ConfigProto()\n",
    "session_config.gpu_options.allow_growth = True\n",
    "\n",
    "# global init\n",
    "init = tf.global_variables_initializer()\n",
    "# saver = tf.train.Saver()\n",
    "sess = tf.Session(config=session_config)\n",
    "sess.run(init)"
   ]
  },
  {
   "cell_type": "code",
   "execution_count": 17,
   "metadata": {
    "scrolled": false
   },
   "outputs": [
    {
     "name": "stdout",
     "output_type": "stream",
     "text": [
      "\n",
      "WARNING: The TensorFlow contrib module will not be included in TensorFlow 2.0.\n",
      "For more information, please see:\n",
      "  * https://github.com/tensorflow/community/blob/master/rfcs/20180907-contrib-sunset.md\n",
      "  * https://github.com/tensorflow/addons\n",
      "If you depend on functionality not listed there, please file an issue.\n",
      "\n",
      "WARNING:tensorflow:From /home/beardysome/anaconda3/lib/python3.7/site-packages/tensorflow/python/framework/op_def_library.py:263: colocate_with (from tensorflow.python.framework.ops) is deprecated and will be removed in a future version.\n",
      "Instructions for updating:\n",
      "Colocations handled automatically by placer.\n",
      "WARNING:tensorflow:From /media/media_drive/skoltech/NNGP/model/mlp.py:28: calling dropout (from tensorflow.python.ops.nn_ops) with keep_prob is deprecated and will be removed in a future version.\n",
      "Instructions for updating:\n",
      "Please use `rate` instead of `keep_prob`. Rate should be set to `rate = 1 - keep_prob`.\n",
      "WARNING:tensorflow:From /home/beardysome/anaconda3/lib/python3.7/site-packages/tensorflow/python/ops/losses/losses_impl.py:667: to_float (from tensorflow.python.ops.math_ops) is deprecated and will be removed in a future version.\n",
      "Instructions for updating:\n",
      "Use tf.cast instead.\n"
     ]
    }
   ],
   "source": []
  },
  {
   "cell_type": "code",
   "execution_count": 21,
   "metadata": {},
   "outputs": [
    {
     "name": "stdout",
     "output_type": "stream",
     "text": [
      "[100] RMSE train:186.437 test:191.325 val:191.325 patience:3\n",
      "[200] RMSE train:181.961 test:186.756 val:186.756 patience:3\n",
      "[300] RMSE train:169.345 test:173.799 val:173.799 patience:3\n",
      "[400] RMSE train:142.603 test:146.337 val:146.337 patience:3\n",
      "[500] RMSE train:103.516 test:106.335 val:106.335 patience:3\n",
      "[600] RMSE train:72.867 test:75.470 val:75.470 patience:3\n",
      "[700] RMSE train:65.293 test:68.313 val:68.313 patience:3\n",
      "[800] RMSE train:64.714 test:67.930 val:67.930 patience:3\n",
      "[900] RMSE train:64.535 test:67.832 val:67.832 patience:3\n",
      "[1000] RMSE train:64.356 test:67.718 val:67.718 patience:3\n",
      "[1100] RMSE train:64.169 test:67.597 val:67.597 patience:3\n",
      "[1200] RMSE train:63.975 test:67.472 val:67.472 patience:3\n",
      "[1300] RMSE train:63.775 test:67.344 val:67.344 patience:3\n",
      "[1400] RMSE train:63.570 test:67.213 val:67.213 patience:3\n",
      "[1500] RMSE train:63.361 test:67.079 val:67.079 patience:3\n",
      "[1600] RMSE train:63.148 test:66.945 val:66.945 patience:3\n",
      "[1700] RMSE train:62.932 test:66.809 val:66.809 patience:3\n",
      "[1800] RMSE train:62.715 test:66.673 val:66.673 patience:3\n",
      "[1900] RMSE train:62.495 test:66.537 val:66.537 patience:3\n",
      "[2000] RMSE train:62.275 test:66.402 val:66.402 patience:3\n",
      "[2100] RMSE train:62.055 test:66.268 val:66.268 patience:3\n",
      "[2200] RMSE train:61.837 test:66.137 val:66.137 patience:3\n",
      "[2300] RMSE train:61.621 test:66.008 val:66.008 patience:3\n",
      "[2400] RMSE train:61.407 test:65.883 val:65.883 patience:3\n",
      "[2500] RMSE train:61.198 test:65.762 val:65.762 patience:3\n",
      "[2600] RMSE train:60.993 test:65.646 val:65.646 patience:3\n",
      "[2700] RMSE train:60.795 test:65.536 val:65.536 patience:3\n",
      "[2800] RMSE train:60.604 test:65.432 val:65.432 patience:3\n",
      "[2900] RMSE train:60.421 test:65.335 val:65.335 patience:3\n",
      "[3000] RMSE train:60.246 test:65.245 val:65.245 patience:3\n",
      "[3100] RMSE train:60.079 test:65.162 val:65.162 patience:3\n",
      "[3200] RMSE train:59.923 test:65.086 val:65.086 patience:3\n",
      "[3300] RMSE train:59.775 test:65.018 val:65.018 patience:3\n",
      "[3400] RMSE train:59.637 test:64.958 val:64.958 patience:3\n",
      "[3500] RMSE train:59.508 test:64.905 val:64.905 patience:3\n",
      "[3600] RMSE train:59.388 test:64.859 val:64.859 patience:3\n",
      "[3700] RMSE train:59.276 test:64.818 val:64.818 patience:3\n",
      "[3800] RMSE train:59.173 test:64.784 val:64.784 patience:3\n",
      "[3900] RMSE train:59.075 test:64.753 val:64.753 patience:3\n",
      "[4000] RMSE train:58.980 test:64.727 val:64.727 patience:3\n",
      "[4100] RMSE train:58.885 test:64.700 val:64.700 patience:3\n",
      "[4200] RMSE train:58.794 test:64.673 val:64.673 patience:3\n",
      "[4300] RMSE train:58.708 test:64.649 val:64.649 patience:3\n",
      "[4400] RMSE train:58.629 test:64.624 val:64.624 patience:3\n",
      "[4500] RMSE train:58.553 test:64.599 val:64.599 patience:3\n",
      "[4600] RMSE train:58.474 test:64.570 val:64.570 patience:3\n",
      "[4700] RMSE train:58.399 test:64.529 val:64.529 patience:3\n",
      "[4800] RMSE train:58.318 test:64.477 val:64.477 patience:3\n",
      "[4900] RMSE train:58.225 test:64.410 val:64.410 patience:3\n",
      "[5000] RMSE train:58.141 test:64.357 val:64.357 patience:3\n",
      "[5100] RMSE train:58.060 test:64.312 val:64.312 patience:3\n",
      "[5200] RMSE train:57.972 test:64.261 val:64.261 patience:3\n",
      "[5300] RMSE train:57.888 test:64.212 val:64.212 patience:3\n",
      "[5400] RMSE train:57.802 test:64.164 val:64.164 patience:3\n",
      "[5500] RMSE train:57.709 test:64.112 val:64.112 patience:3\n",
      "[5600] RMSE train:57.615 test:64.067 val:64.067 patience:3\n",
      "[5700] RMSE train:57.518 test:64.025 val:64.025 patience:3\n",
      "[5800] RMSE train:57.405 test:63.971 val:63.971 patience:3\n",
      "[5900] RMSE train:57.258 test:63.899 val:63.899 patience:3\n",
      "[6000] RMSE train:57.111 test:63.815 val:63.815 patience:3\n",
      "[6100] RMSE train:56.930 test:63.715 val:63.715 patience:3\n",
      "[6200] RMSE train:56.771 test:63.629 val:63.629 patience:3\n",
      "[6300] RMSE train:56.575 test:63.519 val:63.519 patience:3\n",
      "[6400] RMSE train:56.368 test:63.366 val:63.366 patience:3\n",
      "[6500] RMSE train:56.136 test:63.205 val:63.205 patience:3\n",
      "[6600] RMSE train:55.865 test:63.042 val:63.042 patience:3\n",
      "[6700] RMSE train:55.553 test:62.842 val:62.842 patience:3\n",
      "[6800] RMSE train:55.199 test:62.597 val:62.597 patience:3\n",
      "[6900] RMSE train:54.766 test:62.311 val:62.311 patience:3\n",
      "[7000] RMSE train:54.290 test:61.968 val:61.968 patience:3\n",
      "[7100] RMSE train:53.764 test:61.586 val:61.586 patience:3\n",
      "[7200] RMSE train:53.041 test:61.076 val:61.076 patience:3\n",
      "[7300] RMSE train:52.199 test:60.416 val:60.416 patience:3\n",
      "[7400] RMSE train:51.167 test:59.614 val:59.614 patience:3\n",
      "[7500] RMSE train:49.700 test:58.448 val:58.448 patience:3\n",
      "[7600] RMSE train:47.967 test:56.994 val:56.994 patience:3\n",
      "[7700] RMSE train:46.088 test:55.414 val:55.414 patience:3\n",
      "[7800] RMSE train:43.529 test:53.296 val:53.296 patience:3\n",
      "[7900] RMSE train:40.683 test:50.945 val:50.945 patience:3\n",
      "[8000] RMSE train:37.459 test:48.281 val:48.281 patience:3\n",
      "[8100] RMSE train:34.417 test:45.855 val:45.855 patience:3\n",
      "[8200] RMSE train:31.516 test:43.526 val:43.526 patience:3\n",
      "[8300] RMSE train:28.726 test:41.276 val:41.276 patience:3\n",
      "[8400] RMSE train:26.387 test:39.482 val:39.482 patience:3\n",
      "[8500] RMSE train:24.319 test:37.876 val:37.876 patience:3\n",
      "[8600] RMSE train:22.553 test:36.541 val:36.541 patience:3\n",
      "[8700] RMSE train:21.002 test:35.444 val:35.444 patience:3\n",
      "[8800] RMSE train:19.539 test:34.562 val:34.562 patience:3\n",
      "[8900] RMSE train:18.237 test:33.727 val:33.727 patience:3\n",
      "[9000] RMSE train:17.131 test:33.062 val:33.062 patience:3\n",
      "[9100] RMSE train:16.135 test:32.467 val:32.467 patience:3\n",
      "[9200] RMSE train:15.241 test:31.950 val:31.950 patience:3\n",
      "[9300] RMSE train:14.422 test:31.611 val:31.611 patience:3\n",
      "[9400] RMSE train:13.682 test:31.371 val:31.371 patience:3\n",
      "[9500] RMSE train:12.941 test:31.187 val:31.187 patience:3\n",
      "[9600] RMSE train:12.197 test:31.007 val:31.007 patience:3\n",
      "[9700] RMSE train:11.558 test:30.801 val:30.801 patience:3\n",
      "[9800] RMSE train:10.971 test:30.595 val:30.595 patience:3\n",
      "[9900] RMSE train:10.431 test:30.380 val:30.380 patience:3\n",
      "[10000] RMSE train:9.949 test:30.143 val:30.143 patience:3\n"
     ]
    },
    {
     "data": {
      "text/plain": [
       "(10000, 9.948867, 30.142544, 30.142544)"
      ]
     },
     "execution_count": 21,
     "metadata": {},
     "output_type": "execute_result"
    }
   ],
   "source": [
    "nn.train(\n",
    "    session = sess,\n",
    "    X_train = X_train,\n",
    "    y_train = y_train,\n",
    "    X_test = X_test,\n",
    "    y_test = y_test,\n",
    "    X_val = X_test,\n",
    "    y_val = y_test,\n",
    ")"
   ]
  },
  {
   "cell_type": "code",
   "execution_count": null,
   "metadata": {},
   "outputs": [],
   "source": [
    "from uncertainty_estimator.mcdue import MCDUE\n",
    "\n",
    "estimator = MCDUE()\n",
    "\n"
   ]
  },
  {
   "cell_type": "code",
   "execution_count": 51,
   "metadata": {
    "pycharm": {
     "is_executing": false
    }
   },
   "outputs": [
    {
     "name": "stdout",
     "output_type": "stream",
     "text": [
      "[100] RMSE train:197.140 test:200.312 val:200.312 patience:3\n",
      "[200] RMSE train:189.607 test:192.727 val:192.727 patience:3\n",
      "[300] RMSE train:170.706 test:173.730 val:173.730 patience:3\n",
      "[400] RMSE train:134.434 test:137.446 val:137.446 patience:3\n",
      "[500] RMSE train:90.492 test:94.209 val:94.209 patience:3\n",
      "[600] RMSE train:69.340 test:74.389 val:74.389 patience:3\n",
      "[700] RMSE train:67.135 test:72.645 val:72.645 patience:3\n",
      "[800] RMSE train:67.009 test:72.614 val:72.614 patience:3\n",
      "[900] RMSE train:66.926 test:72.577 val:72.577 patience:3\n",
      "[1000] RMSE train:66.839 test:72.534 val:72.534 patience:3\n",
      "[1100] RMSE train:66.749 test:72.490 val:72.490 patience:3\n",
      "[1200] RMSE train:66.655 test:72.445 val:72.445 patience:3\n",
      "[1300] RMSE train:66.558 test:72.399 val:72.399 patience:3\n",
      "[1400] RMSE train:66.458 test:72.354 val:72.354 patience:3\n",
      "[1500] RMSE train:66.356 test:72.308 val:72.308 patience:3\n",
      "[1600] RMSE train:66.252 test:72.262 val:72.262 patience:3\n",
      "[1700] RMSE train:66.147 test:72.218 val:72.218 patience:3\n",
      "[1800] RMSE train:66.040 test:72.173 val:72.173 patience:3\n",
      "[1900] RMSE train:65.932 test:72.129 val:72.129 patience:3\n",
      "[2000] RMSE train:65.823 test:72.087 val:72.087 patience:3\n",
      "[2100] RMSE train:65.708 test:72.044 val:72.044 patience:3\n",
      "[2200] RMSE train:65.589 test:72.003 val:72.003 patience:3\n",
      "[2300] RMSE train:65.473 test:71.961 val:71.961 patience:3\n",
      "[2400] RMSE train:65.359 test:71.922 val:71.922 patience:3\n",
      "[2500] RMSE train:65.245 test:71.887 val:71.887 patience:3\n",
      "[2600] RMSE train:65.132 test:71.853 val:71.853 patience:3\n",
      "[2700] RMSE train:65.020 test:71.822 val:71.822 patience:3\n",
      "[2800] RMSE train:64.909 test:71.793 val:71.793 patience:3\n",
      "[2900] RMSE train:64.799 test:71.765 val:71.765 patience:3\n",
      "[3000] RMSE train:64.689 test:71.739 val:71.739 patience:3\n",
      "[3100] RMSE train:64.581 test:71.714 val:71.714 patience:3\n",
      "[3200] RMSE train:64.474 test:71.689 val:71.689 patience:3\n",
      "[3300] RMSE train:64.366 test:71.664 val:71.664 patience:3\n",
      "[3400] RMSE train:64.258 test:71.639 val:71.639 patience:3\n",
      "[3500] RMSE train:64.149 test:71.613 val:71.613 patience:3\n",
      "[3600] RMSE train:64.038 test:71.582 val:71.582 patience:3\n",
      "[3700] RMSE train:63.921 test:71.542 val:71.542 patience:3\n",
      "[3800] RMSE train:63.799 test:71.497 val:71.497 patience:3\n",
      "[3900] RMSE train:63.678 test:71.448 val:71.448 patience:3\n",
      "[4000] RMSE train:63.556 test:71.393 val:71.393 patience:3\n",
      "[4100] RMSE train:63.428 test:71.329 val:71.329 patience:3\n",
      "[4200] RMSE train:63.304 test:71.269 val:71.269 patience:3\n",
      "[4300] RMSE train:63.182 test:71.206 val:71.206 patience:3\n",
      "[4400] RMSE train:63.057 test:71.134 val:71.134 patience:3\n",
      "[4500] RMSE train:62.929 test:71.058 val:71.058 patience:3\n",
      "[4600] RMSE train:62.799 test:70.981 val:70.981 patience:3\n",
      "[4700] RMSE train:62.666 test:70.894 val:70.894 patience:3\n",
      "[4800] RMSE train:62.529 test:70.798 val:70.798 patience:3\n",
      "[4900] RMSE train:62.384 test:70.692 val:70.692 patience:3\n",
      "[5000] RMSE train:62.234 test:70.580 val:70.580 patience:3\n",
      "[5100] RMSE train:62.076 test:70.457 val:70.457 patience:3\n",
      "[5200] RMSE train:61.893 test:70.312 val:70.312 patience:3\n",
      "[5300] RMSE train:61.716 test:70.176 val:70.176 patience:3\n",
      "[5400] RMSE train:61.531 test:70.038 val:70.038 patience:3\n",
      "[5500] RMSE train:61.335 test:69.894 val:69.894 patience:3\n",
      "[5600] RMSE train:61.120 test:69.727 val:69.727 patience:3\n",
      "[5700] RMSE train:60.906 test:69.559 val:69.559 patience:3\n",
      "[5800] RMSE train:60.679 test:69.397 val:69.397 patience:3\n",
      "[5900] RMSE train:60.407 test:69.225 val:69.225 patience:3\n",
      "[6000] RMSE train:60.109 test:69.064 val:69.064 patience:3\n",
      "[6100] RMSE train:59.765 test:68.815 val:68.815 patience:3\n",
      "[6200] RMSE train:59.374 test:68.527 val:68.527 patience:3\n",
      "[6300] RMSE train:58.878 test:68.165 val:68.165 patience:3\n",
      "[6400] RMSE train:58.365 test:67.844 val:67.844 patience:3\n",
      "[6500] RMSE train:57.746 test:67.450 val:67.450 patience:3\n",
      "[6600] RMSE train:57.002 test:66.963 val:66.963 patience:3\n",
      "[6700] RMSE train:56.144 test:66.430 val:66.430 patience:3\n",
      "[6800] RMSE train:55.119 test:65.746 val:65.746 patience:3\n",
      "[6900] RMSE train:53.924 test:65.025 val:65.025 patience:3\n",
      "[7000] RMSE train:52.553 test:64.271 val:64.271 patience:3\n",
      "[7100] RMSE train:50.917 test:63.370 val:63.370 patience:3\n",
      "[7200] RMSE train:49.105 test:62.264 val:62.264 patience:3\n",
      "[7300] RMSE train:47.116 test:61.049 val:61.049 patience:3\n",
      "[7400] RMSE train:44.570 test:59.603 val:59.603 patience:3\n",
      "[7500] RMSE train:41.912 test:57.748 val:57.748 patience:3\n",
      "[7600] RMSE train:39.278 test:56.023 val:56.023 patience:3\n",
      "[7700] RMSE train:36.418 test:54.119 val:54.119 patience:3\n",
      "[7800] RMSE train:33.774 test:52.260 val:52.260 patience:3\n",
      "[7900] RMSE train:31.161 test:50.311 val:50.311 patience:3\n",
      "[8000] RMSE train:28.690 test:48.419 val:48.419 patience:3\n",
      "[8100] RMSE train:26.583 test:46.665 val:46.665 patience:3\n",
      "[8200] RMSE train:24.690 test:44.890 val:44.890 patience:3\n",
      "[8300] RMSE train:23.008 test:43.297 val:43.297 patience:3\n",
      "[8400] RMSE train:21.525 test:41.830 val:41.830 patience:3\n",
      "[8500] RMSE train:20.017 test:40.434 val:40.434 patience:3\n",
      "[8600] RMSE train:18.764 test:39.152 val:39.152 patience:3\n",
      "[8700] RMSE train:17.622 test:38.115 val:38.115 patience:3\n",
      "[8800] RMSE train:16.538 test:37.200 val:37.200 patience:3\n",
      "[8900] RMSE train:15.506 test:36.303 val:36.303 patience:3\n",
      "[9000] RMSE train:14.495 test:35.437 val:35.437 patience:3\n",
      "[9100] RMSE train:13.465 test:34.602 val:34.602 patience:3\n",
      "[9200] RMSE train:12.527 test:33.886 val:33.886 patience:3\n",
      "[9300] RMSE train:11.707 test:33.338 val:33.338 patience:3\n",
      "[9400] RMSE train:11.002 test:32.873 val:32.873 patience:3\n",
      "[9500] RMSE train:10.368 test:32.489 val:32.489 patience:3\n",
      "[9600] RMSE train:9.772 test:32.118 val:32.118 patience:3\n",
      "[9700] RMSE train:9.207 test:31.765 val:31.765 patience:3\n",
      "[9800] RMSE train:8.675 test:31.465 val:31.465 patience:3\n",
      "[9900] RMSE train:8.189 test:31.199 val:31.199 patience:3\n",
      "[10000] RMSE train:7.746 test:30.972 val:30.972 patience:3\n",
      "[1] BEFORE:\n",
      "shapes: (200, 10) (200, 1)\n"
     ]
    },
    {
     "ename": "NameError",
     "evalue": "name 'Xt_test' is not defined",
     "output_type": "error",
     "traceback": [
      "\u001b[0;31m---------------------------------------------------------------------------\u001b[0m",
      "\u001b[0;31mNameError\u001b[0m                                 Traceback (most recent call last)",
      "\u001b[0;32m<ipython-input-51-d01d09ce11a0>\u001b[0m in \u001b[0;36m<module>\u001b[0;34m\u001b[0m\n\u001b[1;32m     14\u001b[0m     \u001b[0mprint\u001b[0m\u001b[0;34m(\u001b[0m\u001b[0;34mf'[{al_iteration}] BEFORE:'\u001b[0m\u001b[0;34m)\u001b[0m\u001b[0;34m\u001b[0m\u001b[0;34m\u001b[0m\u001b[0m\n\u001b[1;32m     15\u001b[0m     \u001b[0mprint\u001b[0m\u001b[0;34m(\u001b[0m\u001b[0;34m'shapes:'\u001b[0m\u001b[0;34m,\u001b[0m \u001b[0mX_train\u001b[0m\u001b[0;34m.\u001b[0m\u001b[0mshape\u001b[0m\u001b[0;34m,\u001b[0m \u001b[0my_train\u001b[0m\u001b[0;34m.\u001b[0m\u001b[0mshape\u001b[0m\u001b[0;34m)\u001b[0m\u001b[0;34m\u001b[0m\u001b[0;34m\u001b[0m\u001b[0m\n\u001b[0;32m---> 16\u001b[0;31m     \u001b[0mprint\u001b[0m\u001b[0;34m(\u001b[0m\u001b[0;34m'shapes:'\u001b[0m\u001b[0;34m,\u001b[0m \u001b[0mXt_test\u001b[0m\u001b[0;34m.\u001b[0m\u001b[0mshape\u001b[0m\u001b[0;34m,\u001b[0m \u001b[0my_test\u001b[0m\u001b[0;34m.\u001b[0m\u001b[0mshape\u001b[0m\u001b[0;34m)\u001b[0m\u001b[0;34m\u001b[0m\u001b[0;34m\u001b[0m\u001b[0m\n\u001b[0m\u001b[1;32m     17\u001b[0m     \u001b[0mprint\u001b[0m\u001b[0;34m(\u001b[0m\u001b[0;34m'shapes:'\u001b[0m\u001b[0;34m,\u001b[0m \u001b[0mX_pool\u001b[0m\u001b[0;34m.\u001b[0m\u001b[0mshape\u001b[0m\u001b[0;34m,\u001b[0m \u001b[0my_pool\u001b[0m\u001b[0;34m.\u001b[0m\u001b[0mshape\u001b[0m\u001b[0;34m)\u001b[0m\u001b[0;34m\u001b[0m\u001b[0;34m\u001b[0m\u001b[0m\n\u001b[1;32m     18\u001b[0m \u001b[0;34m\u001b[0m\u001b[0m\n",
      "\u001b[0;31mNameError\u001b[0m: name 'Xt_test' is not defined"
     ]
    }
   ],
   "source": [
    "nn.train(\n",
    "    session = sess,\n",
    "    X_train = X_train,\n",
    "    y_train = y_train,\n",
    "    X_test = X_test,\n",
    "    y_test = y_test,\n",
    "    X_val = X_test,\n",
    "    y_val = y_test,\n",
    ")\n",
    "\n",
    "rmses = [np.sqrt(mse(nn.predict(sess, data = X_test), y_test))]\n",
    "\n",
    "for al_iteration in range(1, 10):\n",
    "    print(f'[{al_iteration}] BEFORE:')\n",
    "    print('shapes:', X_train.shape, y_train.shape)\n",
    "    print('shapes:', Xt_test.shape, y_test.shape)\n",
    "    print('shapes:', X_pool.shape, y_pool.shape)\n",
    "    \n",
    "    gpue = nn.get_nngp_UE(sess, X_train, y_train, X_pool, y_pool)\n",
    "    \n",
    "    X_train, y_train, X_pool, y_pool = \\\n",
    "        update_learning_sets(X_train,\n",
    "                             y_train,\n",
    "                             X_pool,\n",
    "                             y_pool,\n",
    "                             gpue,\n",
    "                             sample_size = 100)\n",
    "    \n",
    "    print(f'[{al_iteration}] AFTER:')\n",
    "    print('shapes:', X_train.shape, y_train.shape)\n",
    "    print('shapes:', X_test.shape, y_test.shape)\n",
    "    print('shapes:', X_pool.shape, y_pool.shape)\n",
    "    \n",
    "    nn.train(\n",
    "        session = sess,\n",
    "        X_train = X_train,\n",
    "        y_train = y_train,\n",
    "        X_test = X_test,\n",
    "        y_test = y_test,\n",
    "        X_val = X_test,\n",
    "        y_val = y_test,\n",
    "    )\n",
    "    rmses.append(np.sqrt(mse(nn.predict(sess, data = X_test),\n",
    "            y_test)))"
   ]
  },
  {
   "cell_type": "code",
   "execution_count": 25,
   "metadata": {
    "pycharm": {
     "is_executing": true
    }
   },
   "outputs": [
    {
     "data": {
      "text/plain": [
       "[67.01624050792357,\n",
       " 25.617914060579913,\n",
       " 20.79083550341267,\n",
       " 20.592644604381892,\n",
       " 19.891202936027778,\n",
       " 19.169725896655404,\n",
       " 19.088115981367878,\n",
       " 18.436352037896626,\n",
       " 15.836635818902577,\n",
       " 15.385584932315856]"
      ]
     },
     "execution_count": 25,
     "metadata": {},
     "output_type": "execute_result"
    }
   ],
   "source": [
    "rmses"
   ]
  },
  {
   "cell_type": "code",
   "execution_count": 26,
   "metadata": {},
   "outputs": [
    {
     "data": {
      "text/plain": [
       "array([[202.12682],\n",
       "       [175.21193],\n",
       "       [360.3318 ]], dtype=float32)"
      ]
     },
     "execution_count": 26,
     "metadata": {},
     "output_type": "execute_result"
    }
   ],
   "source": [
    "nn.predict(sess,\n",
    "           data = X_test[:3])"
   ]
  },
  {
   "cell_type": "code",
   "execution_count": 27,
   "metadata": {},
   "outputs": [
    {
     "data": {
      "text/plain": [
       "array([[183.97308059],\n",
       "       [186.273626  ],\n",
       "       [310.47204144]])"
      ]
     },
     "execution_count": 27,
     "metadata": {},
     "output_type": "execute_result"
    }
   ],
   "source": [
    "y_test[:3]"
   ]
  },
  {
   "cell_type": "code",
   "execution_count": 28,
   "metadata": {},
   "outputs": [
    {
     "data": {
      "text/plain": [
       "(array([0., 0., 0., 0., 0., 0., 0., 0., 0., 0., 0., 0., 0., 0., 0., 0., 0.,\n",
       "        0., 0., 0., 0., 0., 0., 0., 0., 0., 0., 0., 0., 0., 0., 0., 0., 0.,\n",
       "        0., 0., 0., 0., 0., 0., 0., 0., 0., 0., 0., 0., 0., 0., 0., 0., 0.,\n",
       "        0., 0., 0., 0., 0., 0., 0., 0., 0., 0., 0., 0., 0., 0., 0., 0., 0.,\n",
       "        0., 0., 0., 0., 0., 0., 0., 0., 0., 0., 0., 0., 0., 0., 0., 0., 0.,\n",
       "        0., 0., 0., 0., 0., 0., 0., 0., 0., 0., 0., 0., 0., 0., 0.]),\n",
       " array([280.89924695, 240.32911521, 212.78439218, 336.67438452,\n",
       "        371.95826913, 221.99342952, 239.36145661, 175.08057346,\n",
       "        250.84419167, 334.66508059, 183.36869235, 205.28629383,\n",
       "        202.90857136, 292.08283795, 174.96503579, 360.71784888,\n",
       "        194.59085206, 110.29008744, 270.02842567, 272.92573225,\n",
       "        283.68638707, 228.97726692, 169.21232216, 241.86923846,\n",
       "        268.76122167, 182.70312032, 208.02437352, 217.26213109,\n",
       "        285.40837133, 244.2959037 , 254.17450913, 227.31588614,\n",
       "        324.9356297 , 315.27853122, 246.936677  , 229.86442052,\n",
       "        274.83159516, 139.82592565, 372.22786865, 173.03604192,\n",
       "        204.35103397, 208.02803187, 252.46088921, 276.77514948,\n",
       "        257.38784266, 236.24854437, 222.48552312, 248.71391175,\n",
       "        247.72375818, 349.99835335, 148.81985163, 219.43832742,\n",
       "        241.96104932, 230.43524226, 301.9080305 , 140.8951205 ,\n",
       "        275.98867382, 287.24173782, 266.23178741, 298.40548753,\n",
       "        257.64778009, 206.12403558, 270.53308339, 444.00443836,\n",
       "        261.87886166, 215.86823855, 321.37131011, 253.90134464,\n",
       "        229.46069052, 144.2182125 , 290.95094982, 245.69459881,\n",
       "        154.04165429,  91.13983598, 218.55953561, 255.35605887,\n",
       "        264.71041991, 214.38474213, 223.67324879, 230.51249723,\n",
       "        260.72760591, 234.18468151, 189.22520134, 252.5756599 ,\n",
       "        236.07698405, 267.2518538 , 256.85620617, 315.77134843,\n",
       "        249.77778738, 172.51225183, 259.08075996, 263.94290633,\n",
       "        256.02941223, 276.42686564, 328.37888339, 293.79201284,\n",
       "        287.26711085, 310.81228774, 233.37343115, 149.20404135]))"
      ]
     },
     "execution_count": 28,
     "metadata": {},
     "output_type": "execute_result"
    }
   ],
   "source": [
    "gpue = nn.get_nngp_UE(sess, X_train, y_train, X_pool, y_pool)\n",
    "mcd_ue = nn.get_mcd_UE(sess, X_pool)\n",
    "gpue, mcd_ue"
   ]
  },
  {
   "cell_type": "code",
   "execution_count": null,
   "metadata": {},
   "outputs": [],
   "source": []
  },
  {
   "cell_type": "code",
   "execution_count": 29,
   "metadata": {},
   "outputs": [
    {
     "name": "stdout",
     "output_type": "stream",
     "text": [
      "shapes: (1100, 10) (1100, 1)\n",
      "shapes: (200, 10) (200, 1)\n",
      "shapes: (100, 10) (100, 1)\n"
     ]
    }
   ],
   "source": [
    "print('shapes:', X_train.shape, y_train.shape)\n",
    "print('shapes:', X_test.shape, y_test.shape)\n",
    "print('shapes:', X_pool.shape, y_pool.shape)"
   ]
  },
  {
   "cell_type": "code",
   "execution_count": 30,
   "metadata": {},
   "outputs": [],
   "source": [
    "X_train, y_train, X_pool, y_pool = \\\n",
    "    update_learning_sets(X_train,\n",
    "                         y_train,\n",
    "                         X_pool,\n",
    "                         y_pool,\n",
    "                         gpue,\n",
    "                         sample_size = 10)"
   ]
  },
  {
   "cell_type": "code",
   "execution_count": 31,
   "metadata": {},
   "outputs": [
    {
     "name": "stdout",
     "output_type": "stream",
     "text": [
      "shapes: (1110, 10) (1110, 1)\n",
      "shapes: (200, 10) (200, 1)\n",
      "shapes: (90, 10) (90, 1)\n"
     ]
    }
   ],
   "source": [
    "print('shapes:', X_train.shape, y_train.shape)\n",
    "print('shapes:', X_test.shape, y_test.shape)\n",
    "print('shapes:', X_pool.shape, y_pool.shape)"
   ]
  },
  {
   "cell_type": "code",
   "execution_count": null,
   "metadata": {},
   "outputs": [],
   "source": []
  }
 ],
 "metadata": {
  "kernelspec": {
   "display_name": "Python 3",
   "language": "python",
   "name": "python3"
  },
  "language_info": {
   "codemirror_mode": {
    "name": "ipython",
    "version": 3
   },
   "file_extension": ".py",
   "mimetype": "text/x-python",
   "name": "python",
   "nbconvert_exporter": "python",
   "pygments_lexer": "ipython3",
   "version": "3.7.3"
  },
  "pycharm": {
   "stem_cell": {
    "cell_type": "raw",
    "metadata": {
     "collapsed": false
    },
    "source": []
   }
  }
 },
 "nbformat": 4,
 "nbformat_minor": 2
}
