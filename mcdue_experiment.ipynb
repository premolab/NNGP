{
 "cells": [
  {
   "cell_type": "code",
   "execution_count": 2,
   "metadata": {
    "pycharm": {
     "is_executing": false
    }
   },
   "outputs": [],
   "source": [
    "%load_ext autoreload\n",
    "%autoreload 2"
   ]
  },
  {
   "cell_type": "code",
   "execution_count": 39,
   "metadata": {},
   "outputs": [
    {
     "name": "stdout",
     "output_type": "stream",
     "text": [
      "CPU times: user 17 µs, sys: 2 µs, total: 19 µs\n",
      "Wall time: 22.9 µs\n"
     ]
    }
   ],
   "source": [
    "%%time\n",
    "from nngp import NN\n",
    "from dataloader.rosen import RosenData "
   ]
  },
  {
   "cell_type": "code",
   "execution_count": 36,
   "metadata": {
    "pycharm": {
     "is_executing": false
    }
   },
   "outputs": [],
   "source": [
    "config = {\n",
    "    'random_state': 4623457,\n",
    "    'ndim': 10,\n",
    "    'N_train': 200,\n",
    "    'N_test': 200,\n",
    "    'N_pool': 1000,\n",
    "    'layers': [128, 64, 32]\n",
    "}\n",
    "\n"
   ]
  },
  {
   "cell_type": "code",
   "execution_count": 37,
   "metadata": {},
   "outputs": [],
   "source": [
    "np.random.seed(config['random_state'])"
   ]
  },
  {
   "cell_type": "code",
   "execution_count": 40,
   "metadata": {
    "pycharm": {
     "is_executing": false
    }
   },
   "outputs": [
    {
     "name": "stdout",
     "output_type": "stream",
     "text": [
      "shapes: (200, 10) (200, 1)\n",
      "shapes: (200, 10) (200, 1)\n",
      "shapes: (1000, 10) (1000, 1)\n"
     ]
    }
   ],
   "source": [
    "X_train, y_train, _, _, X_test, y_test, X_pool, y_pool = RosenData().dataset(\n",
    "    config['N_train'], 0, config['N_test'], config['N_pool'], config['ndim']\n",
    ")\n",
    "\n",
    "print('shapes:', X_train.shape, y_train.shape)\n",
    "print('shapes:', X_test.shape, y_test.shape)\n",
    "print('shapes:', X_pool.shape, y_pool.shape)"
   ]
  },
  {
   "cell_type": "code",
   "execution_count": 22,
   "metadata": {
    "pycharm": {
     "is_executing": false
    }
   },
   "outputs": [],
   "source": [
    "tf.reset_default_graph()\n",
    "nn = NN(\n",
    "    ndim = ndim,\n",
    "    random_state = random_state,\n",
    "    layers = layers\n",
    ")"
   ]
  },
  {
   "cell_type": "code",
   "execution_count": 23,
   "metadata": {
    "pycharm": {
     "is_executing": false
    }
   },
   "outputs": [],
   "source": [
    "try:\n",
    "    sess.close()\n",
    "except:\n",
    "    pass\n",
    "# a setting for my cluster; ignore it\n",
    "config = tf.ConfigProto()\n",
    "config.gpu_options.allow_growth = True\n",
    "\n",
    "# global init\n",
    "init = tf.global_variables_initializer()\n",
    "saver = tf.train.Saver()\n",
    "sess = tf.Session(config=config)\n",
    "sess.run(init)"
   ]
  },
  {
   "cell_type": "code",
   "execution_count": 24,
   "metadata": {
    "pycharm": {
     "is_executing": false
    }
   },
   "outputs": [
    {
     "name": "stdout",
     "output_type": "stream",
     "text": [
      "[100] RMSE train:184.986 test:190.024 val:190.024 patience:3\n",
      "[200] RMSE train:180.968 test:185.993 val:185.993 patience:3\n",
      "[300] RMSE train:168.460 test:173.408 val:173.408 patience:3\n",
      "[400] RMSE train:141.652 test:146.424 val:146.424 patience:3\n",
      "[500] RMSE train:102.373 test:106.928 val:106.928 patience:3\n",
      "[600] RMSE train:72.031 test:76.324 val:76.324 patience:3\n",
      "[700] RMSE train:64.877 test:68.781 val:68.781 patience:3\n",
      "[800] RMSE train:64.360 test:68.179 val:68.179 patience:3\n",
      "[900] RMSE train:64.193 test:68.075 val:68.075 patience:3\n",
      "[1000] RMSE train:64.025 test:67.998 val:67.998 patience:3\n",
      "[1100] RMSE train:63.850 test:67.922 val:67.922 patience:3\n",
      "[1200] RMSE train:63.669 test:67.845 val:67.845 patience:3\n",
      "[1300] RMSE train:63.482 test:67.768 val:67.768 patience:3\n",
      "[1400] RMSE train:63.290 test:67.692 val:67.692 patience:3\n",
      "[1500] RMSE train:63.094 test:67.616 val:67.616 patience:3\n",
      "[1600] RMSE train:62.895 test:67.542 val:67.542 patience:3\n",
      "[1700] RMSE train:62.693 test:67.470 val:67.470 patience:3\n",
      "[1800] RMSE train:62.489 test:67.401 val:67.401 patience:3\n",
      "[1900] RMSE train:62.284 test:67.335 val:67.335 patience:3\n",
      "[2000] RMSE train:62.079 test:67.273 val:67.273 patience:3\n",
      "[2100] RMSE train:61.874 test:67.216 val:67.216 patience:3\n",
      "[2200] RMSE train:61.670 test:67.165 val:67.165 patience:3\n",
      "[2300] RMSE train:61.468 test:67.119 val:67.119 patience:3\n",
      "[2400] RMSE train:61.269 test:67.080 val:67.080 patience:3\n",
      "[2500] RMSE train:61.073 test:67.046 val:67.046 patience:3\n",
      "[2600] RMSE train:60.882 test:67.020 val:67.020 patience:3\n",
      "[2700] RMSE train:60.696 test:67.002 val:67.002 patience:3\n",
      "[2800] RMSE train:60.516 test:66.993 val:66.993 patience:3\n",
      "[2900] RMSE train:60.342 test:66.994 val:66.994 patience:2\n",
      "[3000] RMSE train:60.176 test:67.002 val:67.002 patience:1\n",
      "[3100] RMSE train:60.018 test:67.016 val:67.016 patience:0\n",
      "No patience left at epoch 3100. Early stopping.\n",
      "[1] BEFORE:\n",
      "shapes: (200, 10) (200, 1)\n",
      "shapes: (200, 10) (200, 1)\n",
      "shapes: (1000, 10) (1000, 1)\n",
      "[1] AFTER:\n",
      "shapes: (300, 10) (300, 1)\n",
      "shapes: (200, 10) (200, 1)\n",
      "shapes: (900, 10) (900, 1)\n",
      "[100] RMSE train:60.239 test:67.544 val:67.544 patience:3\n",
      "[200] RMSE train:60.053 test:67.526 val:67.526 patience:3\n",
      "[300] RMSE train:59.876 test:67.506 val:67.506 patience:3\n",
      "[400] RMSE train:59.708 test:67.490 val:67.490 patience:3\n",
      "[500] RMSE train:59.549 test:67.477 val:67.477 patience:3\n",
      "[600] RMSE train:59.399 test:67.467 val:67.467 patience:3\n",
      "[700] RMSE train:59.256 test:67.455 val:67.455 patience:3\n",
      "[800] RMSE train:59.120 test:67.439 val:67.439 patience:3\n",
      "[900] RMSE train:58.990 test:67.421 val:67.421 patience:3\n",
      "[1000] RMSE train:58.864 test:67.394 val:67.394 patience:3\n",
      "[1100] RMSE train:58.737 test:67.351 val:67.351 patience:3\n",
      "[1200] RMSE train:58.621 test:67.301 val:67.301 patience:3\n",
      "[1300] RMSE train:58.505 test:67.246 val:67.246 patience:3\n",
      "[1400] RMSE train:58.391 test:67.184 val:67.184 patience:3\n",
      "[1500] RMSE train:58.265 test:67.106 val:67.106 patience:3\n",
      "[1600] RMSE train:58.114 test:66.981 val:66.981 patience:3\n",
      "[1700] RMSE train:57.973 test:66.861 val:66.861 patience:3\n",
      "[1800] RMSE train:57.851 test:66.747 val:66.747 patience:3\n",
      "[1900] RMSE train:57.732 test:66.628 val:66.628 patience:3\n",
      "[2000] RMSE train:57.610 test:66.503 val:66.503 patience:3\n",
      "[2100] RMSE train:57.491 test:66.378 val:66.378 patience:3\n",
      "[2200] RMSE train:57.370 test:66.251 val:66.251 patience:3\n",
      "[2300] RMSE train:57.238 test:66.126 val:66.126 patience:3\n",
      "[2400] RMSE train:57.111 test:66.003 val:66.003 patience:3\n",
      "[2500] RMSE train:56.984 test:65.872 val:65.872 patience:3\n",
      "[2600] RMSE train:56.847 test:65.730 val:65.730 patience:3\n",
      "[2700] RMSE train:56.688 test:65.579 val:65.579 patience:3\n",
      "[2800] RMSE train:56.513 test:65.415 val:65.415 patience:3\n",
      "[2900] RMSE train:56.339 test:65.263 val:65.263 patience:3\n",
      "[3000] RMSE train:56.167 test:65.131 val:65.131 patience:3\n",
      "[3100] RMSE train:55.975 test:64.971 val:64.971 patience:3\n",
      "[3200] RMSE train:55.764 test:64.817 val:64.817 patience:3\n",
      "[3300] RMSE train:55.524 test:64.646 val:64.646 patience:3\n",
      "[3400] RMSE train:55.267 test:64.450 val:64.450 patience:3\n",
      "[3500] RMSE train:54.956 test:64.236 val:64.236 patience:3\n",
      "[3600] RMSE train:54.586 test:63.957 val:63.957 patience:3\n",
      "[3700] RMSE train:54.171 test:63.644 val:63.644 patience:3\n",
      "[3800] RMSE train:53.692 test:63.303 val:63.303 patience:3\n",
      "[3900] RMSE train:53.059 test:62.930 val:62.930 patience:3\n",
      "[4000] RMSE train:52.317 test:62.457 val:62.457 patience:3\n",
      "[4100] RMSE train:51.492 test:61.934 val:61.934 patience:3\n",
      "[4200] RMSE train:50.491 test:61.296 val:61.296 patience:3\n",
      "[4300] RMSE train:49.262 test:60.483 val:60.483 patience:3\n",
      "[4400] RMSE train:47.765 test:59.453 val:59.453 patience:3\n",
      "[4500] RMSE train:45.892 test:58.345 val:58.345 patience:3\n",
      "[4600] RMSE train:43.682 test:56.981 val:56.981 patience:3\n",
      "[4700] RMSE train:41.417 test:55.537 val:55.537 patience:3\n",
      "[4800] RMSE train:39.036 test:53.986 val:53.986 patience:3\n",
      "[4900] RMSE train:36.594 test:52.403 val:52.403 patience:3\n",
      "[5000] RMSE train:34.032 test:50.657 val:50.657 patience:3\n",
      "[5100] RMSE train:31.730 test:48.859 val:48.859 patience:3\n",
      "[5200] RMSE train:29.469 test:46.981 val:46.981 patience:3\n",
      "[5300] RMSE train:27.601 test:45.225 val:45.225 patience:3\n",
      "[5400] RMSE train:25.865 test:43.396 val:43.396 patience:3\n",
      "[5500] RMSE train:24.245 test:41.465 val:41.465 patience:3\n",
      "[5600] RMSE train:22.680 test:39.699 val:39.699 patience:3\n",
      "[5700] RMSE train:21.212 test:38.079 val:38.079 patience:3\n",
      "[5800] RMSE train:19.927 test:36.635 val:36.635 patience:3\n",
      "[5900] RMSE train:18.739 test:35.344 val:35.344 patience:3\n",
      "[6000] RMSE train:17.663 test:34.158 val:34.158 patience:3\n",
      "[6100] RMSE train:16.607 test:33.129 val:33.129 patience:3\n",
      "[6200] RMSE train:15.700 test:32.230 val:32.230 patience:3\n",
      "[6300] RMSE train:14.933 test:31.483 val:31.483 patience:3\n",
      "[6400] RMSE train:14.220 test:30.887 val:30.887 patience:3\n",
      "[6500] RMSE train:13.561 test:30.312 val:30.312 patience:3\n",
      "[6600] RMSE train:12.941 test:29.686 val:29.686 patience:3\n",
      "[6700] RMSE train:12.432 test:29.266 val:29.266 patience:3\n",
      "[6800] RMSE train:11.958 test:28.927 val:28.927 patience:3\n",
      "[6900] RMSE train:11.561 test:28.625 val:28.625 patience:3\n",
      "[7000] RMSE train:11.183 test:28.330 val:28.330 patience:3\n",
      "[7100] RMSE train:10.820 test:28.021 val:28.021 patience:3\n",
      "[7200] RMSE train:10.500 test:27.786 val:27.786 patience:3\n",
      "[7300] RMSE train:10.173 test:27.581 val:27.581 patience:3\n",
      "[7400] RMSE train:9.874 test:27.428 val:27.428 patience:3\n",
      "[7500] RMSE train:9.587 test:27.318 val:27.318 patience:3\n",
      "[7600] RMSE train:9.305 test:27.215 val:27.215 patience:3\n",
      "[7700] RMSE train:9.024 test:27.092 val:27.092 patience:3\n",
      "[7800] RMSE train:8.750 test:26.982 val:26.982 patience:3\n",
      "[7900] RMSE train:8.491 test:26.903 val:26.903 patience:3\n",
      "[8000] RMSE train:8.246 test:26.818 val:26.818 patience:3\n",
      "[8100] RMSE train:8.014 test:26.722 val:26.722 patience:3\n",
      "[8200] RMSE train:7.797 test:26.655 val:26.655 patience:3\n",
      "[8300] RMSE train:7.591 test:26.560 val:26.560 patience:3\n",
      "[8400] RMSE train:7.375 test:26.498 val:26.498 patience:3\n",
      "[8500] RMSE train:7.167 test:26.420 val:26.420 patience:3\n",
      "[8600] RMSE train:6.972 test:26.384 val:26.384 patience:3\n",
      "[8700] RMSE train:6.790 test:26.300 val:26.300 patience:3\n",
      "[8800] RMSE train:6.621 test:26.225 val:26.225 patience:3\n",
      "[8900] RMSE train:6.458 test:26.151 val:26.151 patience:3\n",
      "[9000] RMSE train:6.308 test:26.111 val:26.111 patience:3\n",
      "[9100] RMSE train:6.163 test:26.074 val:26.074 patience:3\n",
      "[9200] RMSE train:6.026 test:26.080 val:26.080 patience:2\n",
      "[9300] RMSE train:5.893 test:26.043 val:26.043 patience:3\n",
      "[9400] RMSE train:5.766 test:26.004 val:26.004 patience:3\n",
      "[9500] RMSE train:5.639 test:25.917 val:25.917 patience:3\n",
      "[9600] RMSE train:5.518 test:25.826 val:25.826 patience:3\n",
      "[9700] RMSE train:5.399 test:25.799 val:25.799 patience:3\n",
      "[9800] RMSE train:5.271 test:25.746 val:25.746 patience:3\n",
      "[9900] RMSE train:5.144 test:25.695 val:25.695 patience:3\n",
      "[10000] RMSE train:5.018 test:25.618 val:25.618 patience:3\n",
      "[2] BEFORE:\n",
      "shapes: (300, 10) (300, 1)\n",
      "shapes: (200, 10) (200, 1)\n",
      "shapes: (900, 10) (900, 1)\n",
      "[2] AFTER:\n",
      "shapes: (400, 10) (400, 1)\n",
      "shapes: (200, 10) (200, 1)\n",
      "shapes: (800, 10) (800, 1)\n",
      "[100] RMSE train:12.383 test:22.946 val:22.946 patience:3\n",
      "[200] RMSE train:11.434 test:22.524 val:22.524 patience:3\n"
     ]
    },
    {
     "name": "stdout",
     "output_type": "stream",
     "text": [
      "[300] RMSE train:10.761 test:22.336 val:22.336 patience:3\n",
      "[400] RMSE train:10.228 test:22.219 val:22.219 patience:3\n",
      "[500] RMSE train:9.758 test:22.145 val:22.145 patience:3\n",
      "[600] RMSE train:9.337 test:22.072 val:22.072 patience:3\n",
      "[700] RMSE train:8.947 test:21.968 val:21.968 patience:3\n",
      "[800] RMSE train:8.561 test:21.852 val:21.852 patience:3\n",
      "[900] RMSE train:8.204 test:21.755 val:21.755 patience:3\n",
      "[1000] RMSE train:7.896 test:21.656 val:21.656 patience:3\n",
      "[1100] RMSE train:7.631 test:21.590 val:21.590 patience:3\n",
      "[1200] RMSE train:7.383 test:21.514 val:21.514 patience:3\n",
      "[1300] RMSE train:7.152 test:21.430 val:21.430 patience:3\n",
      "[1400] RMSE train:6.933 test:21.364 val:21.364 patience:3\n",
      "[1500] RMSE train:6.720 test:21.305 val:21.305 patience:3\n",
      "[1600] RMSE train:6.512 test:21.253 val:21.253 patience:3\n",
      "[1700] RMSE train:6.311 test:21.201 val:21.201 patience:3\n",
      "[1800] RMSE train:6.118 test:21.161 val:21.161 patience:3\n",
      "[1900] RMSE train:5.940 test:21.123 val:21.123 patience:3\n",
      "[2000] RMSE train:5.769 test:21.091 val:21.091 patience:3\n",
      "[2100] RMSE train:5.568 test:21.046 val:21.046 patience:3\n",
      "[2200] RMSE train:5.407 test:21.004 val:21.004 patience:3\n",
      "[2300] RMSE train:5.251 test:20.970 val:20.970 patience:3\n",
      "[2400] RMSE train:5.092 test:20.966 val:20.966 patience:3\n",
      "[2500] RMSE train:4.936 test:20.941 val:20.941 patience:3\n",
      "[2600] RMSE train:4.792 test:20.918 val:20.918 patience:3\n",
      "[2700] RMSE train:4.657 test:20.908 val:20.908 patience:3\n",
      "[2800] RMSE train:4.528 test:20.884 val:20.884 patience:3\n",
      "[2900] RMSE train:4.409 test:20.846 val:20.846 patience:3\n",
      "[3000] RMSE train:4.299 test:20.808 val:20.808 patience:3\n",
      "[3100] RMSE train:4.188 test:20.805 val:20.805 patience:3\n",
      "[3200] RMSE train:4.091 test:20.809 val:20.809 patience:2\n",
      "[3300] RMSE train:3.997 test:20.786 val:20.786 patience:3\n",
      "[3400] RMSE train:3.912 test:20.767 val:20.767 patience:3\n",
      "[3500] RMSE train:3.830 test:20.759 val:20.759 patience:3\n",
      "[3600] RMSE train:3.743 test:20.769 val:20.769 patience:2\n",
      "[3700] RMSE train:3.663 test:20.754 val:20.754 patience:3\n",
      "[3800] RMSE train:3.583 test:20.763 val:20.763 patience:2\n",
      "[3900] RMSE train:3.508 test:20.786 val:20.786 patience:1\n",
      "[4000] RMSE train:3.434 test:20.791 val:20.791 patience:0\n",
      "No patience left at epoch 4000. Early stopping.\n",
      "[3] BEFORE:\n",
      "shapes: (400, 10) (400, 1)\n",
      "shapes: (200, 10) (200, 1)\n",
      "shapes: (800, 10) (800, 1)\n",
      "[3] AFTER:\n",
      "shapes: (500, 10) (500, 1)\n",
      "shapes: (200, 10) (200, 1)\n",
      "shapes: (700, 10) (700, 1)\n",
      "[100] RMSE train:8.205 test:20.446 val:20.446 patience:3\n",
      "[200] RMSE train:7.496 test:20.418 val:20.418 patience:3\n",
      "[300] RMSE train:7.013 test:20.404 val:20.404 patience:3\n",
      "[400] RMSE train:6.643 test:20.399 val:20.399 patience:3\n",
      "[500] RMSE train:6.324 test:20.473 val:20.473 patience:2\n",
      "[600] RMSE train:6.040 test:20.535 val:20.535 patience:1\n",
      "[700] RMSE train:5.797 test:20.593 val:20.593 patience:0\n",
      "No patience left at epoch 700. Early stopping.\n",
      "[4] BEFORE:\n",
      "shapes: (500, 10) (500, 1)\n",
      "shapes: (200, 10) (200, 1)\n",
      "shapes: (700, 10) (700, 1)\n",
      "[4] AFTER:\n",
      "shapes: (600, 10) (600, 1)\n",
      "shapes: (200, 10) (200, 1)\n",
      "shapes: (600, 10) (600, 1)\n",
      "[100] RMSE train:9.815 test:20.362 val:20.362 patience:3\n",
      "[200] RMSE train:9.434 test:20.255 val:20.255 patience:3\n",
      "[300] RMSE train:9.176 test:20.048 val:20.048 patience:3\n",
      "[400] RMSE train:9.024 test:20.058 val:20.058 patience:2\n",
      "[500] RMSE train:8.824 test:20.089 val:20.089 patience:1\n",
      "[600] RMSE train:8.622 test:19.960 val:19.960 patience:3\n",
      "[700] RMSE train:8.495 test:19.930 val:19.930 patience:3\n",
      "[800] RMSE train:8.416 test:19.931 val:19.931 patience:2\n",
      "[900] RMSE train:8.239 test:19.944 val:19.944 patience:1\n",
      "[1000] RMSE train:8.104 test:19.920 val:19.920 patience:3\n",
      "[1100] RMSE train:7.991 test:19.884 val:19.884 patience:3\n",
      "[1200] RMSE train:7.899 test:19.870 val:19.870 patience:3\n",
      "[1300] RMSE train:7.811 test:19.918 val:19.918 patience:2\n",
      "[1400] RMSE train:7.783 test:19.958 val:19.958 patience:1\n",
      "[1500] RMSE train:7.637 test:19.891 val:19.891 patience:0\n",
      "No patience left at epoch 1500. Early stopping.\n",
      "[5] BEFORE:\n",
      "shapes: (600, 10) (600, 1)\n",
      "shapes: (200, 10) (200, 1)\n",
      "shapes: (600, 10) (600, 1)\n",
      "[5] AFTER:\n",
      "shapes: (700, 10) (700, 1)\n",
      "shapes: (200, 10) (200, 1)\n",
      "shapes: (500, 10) (500, 1)\n",
      "[100] RMSE train:9.961 test:19.605 val:19.605 patience:3\n",
      "[200] RMSE train:9.646 test:19.436 val:19.436 patience:3\n",
      "[300] RMSE train:9.398 test:19.360 val:19.360 patience:3\n",
      "[400] RMSE train:9.214 test:19.249 val:19.249 patience:3\n",
      "[500] RMSE train:9.051 test:19.248 val:19.248 patience:3\n",
      "[600] RMSE train:8.873 test:19.185 val:19.185 patience:3\n",
      "[700] RMSE train:8.723 test:19.177 val:19.177 patience:3\n",
      "[800] RMSE train:8.589 test:19.169 val:19.169 patience:3\n",
      "[900] RMSE train:8.475 test:19.160 val:19.160 patience:3\n",
      "[1000] RMSE train:8.349 test:19.160 val:19.160 patience:2\n",
      "[1100] RMSE train:8.247 test:19.172 val:19.172 patience:1\n",
      "[1200] RMSE train:8.169 test:19.153 val:19.153 patience:3\n",
      "[1300] RMSE train:8.016 test:19.132 val:19.132 patience:3\n",
      "[1400] RMSE train:7.933 test:19.113 val:19.113 patience:3\n",
      "[1500] RMSE train:7.821 test:19.139 val:19.139 patience:2\n",
      "[1600] RMSE train:7.714 test:19.170 val:19.170 patience:1\n",
      "[1700] RMSE train:7.616 test:19.170 val:19.170 patience:0\n",
      "No patience left at epoch 1700. Early stopping.\n",
      "[6] BEFORE:\n",
      "shapes: (700, 10) (700, 1)\n",
      "shapes: (200, 10) (200, 1)\n",
      "shapes: (500, 10) (500, 1)\n",
      "[6] AFTER:\n",
      "shapes: (800, 10) (800, 1)\n",
      "shapes: (200, 10) (200, 1)\n",
      "shapes: (400, 10) (400, 1)\n",
      "[100] RMSE train:9.382 test:19.171 val:19.171 patience:3\n",
      "[200] RMSE train:9.140 test:19.083 val:19.083 patience:3\n",
      "[300] RMSE train:8.951 test:19.074 val:19.074 patience:3\n",
      "[400] RMSE train:8.793 test:19.090 val:19.090 patience:2\n",
      "[500] RMSE train:8.660 test:19.110 val:19.110 patience:1\n",
      "[600] RMSE train:8.514 test:19.088 val:19.088 patience:0\n",
      "No patience left at epoch 600. Early stopping.\n",
      "[7] BEFORE:\n",
      "shapes: (800, 10) (800, 1)\n",
      "shapes: (200, 10) (200, 1)\n",
      "shapes: (400, 10) (400, 1)\n",
      "[7] AFTER:\n",
      "shapes: (900, 10) (900, 1)\n",
      "shapes: (200, 10) (200, 1)\n",
      "shapes: (300, 10) (300, 1)\n",
      "[100] RMSE train:9.636 test:18.769 val:18.769 patience:3\n",
      "[200] RMSE train:9.398 test:18.710 val:18.710 patience:3\n",
      "[300] RMSE train:9.207 test:18.678 val:18.678 patience:3\n",
      "[400] RMSE train:9.047 test:18.635 val:18.635 patience:3\n",
      "[500] RMSE train:8.901 test:18.644 val:18.644 patience:2\n",
      "[600] RMSE train:8.778 test:18.684 val:18.684 patience:1\n",
      "[700] RMSE train:8.657 test:18.615 val:18.615 patience:3\n",
      "[800] RMSE train:8.551 test:18.597 val:18.597 patience:3\n",
      "[900] RMSE train:8.449 test:18.572 val:18.572 patience:3\n",
      "[1000] RMSE train:8.369 test:18.509 val:18.509 patience:3\n",
      "[1100] RMSE train:8.268 test:18.537 val:18.537 patience:2\n",
      "[1200] RMSE train:8.183 test:18.509 val:18.509 patience:1\n",
      "[1300] RMSE train:8.104 test:18.494 val:18.494 patience:3\n",
      "[1400] RMSE train:8.030 test:18.483 val:18.483 patience:3\n",
      "[1500] RMSE train:7.962 test:18.436 val:18.436 patience:3\n",
      "[1600] RMSE train:7.892 test:18.439 val:18.439 patience:2\n",
      "[1700] RMSE train:7.821 test:18.446 val:18.446 patience:1\n",
      "[1800] RMSE train:7.757 test:18.436 val:18.436 patience:0\n",
      "No patience left at epoch 1800. Early stopping.\n",
      "[8] BEFORE:\n",
      "shapes: (900, 10) (900, 1)\n",
      "shapes: (200, 10) (200, 1)\n",
      "shapes: (300, 10) (300, 1)\n",
      "[8] AFTER:\n",
      "shapes: (1000, 10) (1000, 1)\n",
      "shapes: (200, 10) (200, 1)\n",
      "shapes: (200, 10) (200, 1)\n",
      "[100] RMSE train:9.066 test:18.355 val:18.355 patience:3\n",
      "[200] RMSE train:8.879 test:18.369 val:18.369 patience:2\n",
      "[300] RMSE train:8.742 test:18.326 val:18.326 patience:3\n",
      "[400] RMSE train:8.623 test:18.331 val:18.331 patience:2\n",
      "[500] RMSE train:8.522 test:18.308 val:18.308 patience:3\n",
      "[600] RMSE train:8.425 test:18.279 val:18.279 patience:3\n",
      "[700] RMSE train:8.335 test:18.261 val:18.261 patience:3\n",
      "[800] RMSE train:8.231 test:18.207 val:18.207 patience:3\n",
      "[900] RMSE train:8.143 test:18.143 val:18.143 patience:3\n",
      "[1000] RMSE train:8.056 test:18.115 val:18.115 patience:3\n",
      "[1100] RMSE train:7.987 test:18.060 val:18.060 patience:3\n",
      "[1200] RMSE train:7.907 test:18.034 val:18.034 patience:3\n",
      "[1300] RMSE train:7.862 test:17.951 val:17.951 patience:3\n",
      "[1400] RMSE train:7.774 test:17.931 val:17.931 patience:3\n",
      "[1500] RMSE train:7.724 test:17.870 val:17.870 patience:3\n",
      "[1600] RMSE train:7.655 test:17.877 val:17.877 patience:2\n",
      "[1700] RMSE train:7.592 test:17.832 val:17.832 patience:3\n",
      "[1800] RMSE train:7.533 test:17.800 val:17.800 patience:3\n"
     ]
    },
    {
     "name": "stdout",
     "output_type": "stream",
     "text": [
      "[1900] RMSE train:7.477 test:17.744 val:17.744 patience:3\n",
      "[2000] RMSE train:7.426 test:17.712 val:17.712 patience:3\n",
      "[2100] RMSE train:7.375 test:17.684 val:17.684 patience:3\n",
      "[2200] RMSE train:7.329 test:17.692 val:17.692 patience:2\n",
      "[2300] RMSE train:7.275 test:17.645 val:17.645 patience:3\n",
      "[2400] RMSE train:7.231 test:17.627 val:17.627 patience:3\n",
      "[2500] RMSE train:7.186 test:17.571 val:17.571 patience:3\n",
      "[2600] RMSE train:7.142 test:17.553 val:17.553 patience:3\n",
      "[2700] RMSE train:7.110 test:17.563 val:17.563 patience:2\n",
      "[2800] RMSE train:7.059 test:17.522 val:17.522 patience:3\n",
      "[2900] RMSE train:7.025 test:17.453 val:17.453 patience:3\n",
      "[3000] RMSE train:6.981 test:17.456 val:17.456 patience:2\n",
      "[3100] RMSE train:6.944 test:17.435 val:17.435 patience:3\n",
      "[3200] RMSE train:6.926 test:17.456 val:17.456 patience:2\n",
      "[3300] RMSE train:6.879 test:17.359 val:17.359 patience:3\n",
      "[3400] RMSE train:6.823 test:17.400 val:17.400 patience:2\n",
      "[3500] RMSE train:6.782 test:17.352 val:17.352 patience:3\n",
      "[3600] RMSE train:6.754 test:17.377 val:17.377 patience:2\n",
      "[3700] RMSE train:6.707 test:17.336 val:17.336 patience:3\n",
      "[3800] RMSE train:6.679 test:17.332 val:17.332 patience:3\n",
      "[3900] RMSE train:6.634 test:17.294 val:17.294 patience:3\n",
      "[4000] RMSE train:6.602 test:17.269 val:17.269 patience:3\n",
      "[4100] RMSE train:6.575 test:17.257 val:17.257 patience:3\n",
      "[4200] RMSE train:6.522 test:17.171 val:17.171 patience:3\n",
      "[4300] RMSE train:6.484 test:17.146 val:17.146 patience:3\n",
      "[4400] RMSE train:6.453 test:17.124 val:17.124 patience:3\n",
      "[4500] RMSE train:6.428 test:17.144 val:17.144 patience:2\n",
      "[4600] RMSE train:6.389 test:17.079 val:17.079 patience:3\n",
      "[4700] RMSE train:6.353 test:17.078 val:17.078 patience:3\n",
      "[4800] RMSE train:6.334 test:17.064 val:17.064 patience:3\n",
      "[4900] RMSE train:6.296 test:17.001 val:17.001 patience:3\n",
      "[5000] RMSE train:6.265 test:16.974 val:16.974 patience:3\n",
      "[5100] RMSE train:6.228 test:16.958 val:16.958 patience:3\n",
      "[5200] RMSE train:6.216 test:16.900 val:16.900 patience:3\n",
      "[5300] RMSE train:6.168 test:16.907 val:16.907 patience:2\n",
      "[5400] RMSE train:6.138 test:16.874 val:16.874 patience:3\n",
      "[5500] RMSE train:6.106 test:16.831 val:16.831 patience:3\n",
      "[5600] RMSE train:6.078 test:16.809 val:16.809 patience:3\n",
      "[5700] RMSE train:6.059 test:16.803 val:16.803 patience:3\n",
      "[5800] RMSE train:6.028 test:16.773 val:16.773 patience:3\n",
      "[5900] RMSE train:5.997 test:16.730 val:16.730 patience:3\n",
      "[6000] RMSE train:5.979 test:16.733 val:16.733 patience:2\n",
      "[6100] RMSE train:5.947 test:16.683 val:16.683 patience:3\n",
      "[6200] RMSE train:5.936 test:16.633 val:16.633 patience:3\n",
      "[6300] RMSE train:5.900 test:16.660 val:16.660 patience:2\n",
      "[6400] RMSE train:5.875 test:16.610 val:16.610 patience:3\n",
      "[6500] RMSE train:5.848 test:16.607 val:16.607 patience:3\n",
      "[6600] RMSE train:5.826 test:16.591 val:16.591 patience:3\n",
      "[6700] RMSE train:5.805 test:16.576 val:16.576 patience:3\n",
      "[6800] RMSE train:5.782 test:16.560 val:16.560 patience:3\n",
      "[6900] RMSE train:5.770 test:16.479 val:16.479 patience:3\n",
      "[7000] RMSE train:5.730 test:16.508 val:16.508 patience:2\n",
      "[7100] RMSE train:5.703 test:16.455 val:16.455 patience:3\n",
      "[7200] RMSE train:5.682 test:16.419 val:16.419 patience:3\n",
      "[7300] RMSE train:5.675 test:16.378 val:16.378 patience:3\n",
      "[7400] RMSE train:5.636 test:16.379 val:16.379 patience:2\n",
      "[7500] RMSE train:5.615 test:16.350 val:16.350 patience:3\n",
      "[7600] RMSE train:5.585 test:16.336 val:16.336 patience:3\n",
      "[7700] RMSE train:5.559 test:16.317 val:16.317 patience:3\n",
      "[7800] RMSE train:5.535 test:16.285 val:16.285 patience:3\n",
      "[7900] RMSE train:5.508 test:16.263 val:16.263 patience:3\n",
      "[8000] RMSE train:5.480 test:16.253 val:16.253 patience:3\n",
      "[8100] RMSE train:5.456 test:16.242 val:16.242 patience:3\n",
      "[8200] RMSE train:5.434 test:16.225 val:16.225 patience:3\n",
      "[8300] RMSE train:5.398 test:16.177 val:16.177 patience:3\n",
      "[8400] RMSE train:5.375 test:16.158 val:16.158 patience:3\n",
      "[8500] RMSE train:5.349 test:16.140 val:16.140 patience:3\n",
      "[8600] RMSE train:5.318 test:16.100 val:16.100 patience:3\n",
      "[8700] RMSE train:5.292 test:16.083 val:16.083 patience:3\n",
      "[8800] RMSE train:5.269 test:16.036 val:16.036 patience:3\n",
      "[8900] RMSE train:5.248 test:16.006 val:16.006 patience:3\n",
      "[9000] RMSE train:5.217 test:15.993 val:15.993 patience:3\n",
      "[9100] RMSE train:5.195 test:16.002 val:16.002 patience:2\n",
      "[9200] RMSE train:5.174 test:15.982 val:15.982 patience:3\n",
      "[9300] RMSE train:5.146 test:15.952 val:15.952 patience:3\n",
      "[9400] RMSE train:5.126 test:15.897 val:15.897 patience:3\n",
      "[9500] RMSE train:5.098 test:15.891 val:15.891 patience:3\n",
      "[9600] RMSE train:5.080 test:15.864 val:15.864 patience:3\n",
      "[9700] RMSE train:5.075 test:15.902 val:15.902 patience:2\n",
      "[9800] RMSE train:5.036 test:15.845 val:15.845 patience:3\n",
      "[9900] RMSE train:5.023 test:15.814 val:15.814 patience:3\n",
      "[10000] RMSE train:5.007 test:15.837 val:15.837 patience:2\n",
      "[9] BEFORE:\n",
      "shapes: (1000, 10) (1000, 1)\n",
      "shapes: (200, 10) (200, 1)\n",
      "shapes: (200, 10) (200, 1)\n",
      "[9] AFTER:\n",
      "shapes: (1100, 10) (1100, 1)\n",
      "shapes: (200, 10) (200, 1)\n",
      "shapes: (100, 10) (100, 1)\n",
      "[100] RMSE train:6.473 test:15.843 val:15.843 patience:3\n",
      "[200] RMSE train:6.343 test:15.804 val:15.804 patience:3\n",
      "[300] RMSE train:6.334 test:15.681 val:15.681 patience:3\n",
      "[400] RMSE train:6.214 test:15.678 val:15.678 patience:3\n",
      "[500] RMSE train:6.158 test:15.618 val:15.618 patience:3\n",
      "[600] RMSE train:6.086 test:15.606 val:15.606 patience:3\n",
      "[700] RMSE train:6.032 test:15.590 val:15.590 patience:3\n",
      "[800] RMSE train:6.039 test:15.675 val:15.675 patience:2\n",
      "[900] RMSE train:5.961 test:15.480 val:15.480 patience:3\n",
      "[1000] RMSE train:5.906 test:15.524 val:15.524 patience:2\n",
      "[1100] RMSE train:5.877 test:15.534 val:15.534 patience:1\n",
      "[1200] RMSE train:5.837 test:15.417 val:15.417 patience:3\n",
      "[1300] RMSE train:5.825 test:15.416 val:15.416 patience:3\n",
      "[1400] RMSE train:5.774 test:15.441 val:15.441 patience:2\n",
      "[1500] RMSE train:5.804 test:15.314 val:15.314 patience:3\n",
      "[1600] RMSE train:5.711 test:15.387 val:15.387 patience:2\n",
      "[1700] RMSE train:5.679 test:15.343 val:15.343 patience:1\n",
      "[1800] RMSE train:5.659 test:15.386 val:15.386 patience:0\n",
      "No patience left at epoch 1800. Early stopping.\n"
     ]
    }
   ],
   "source": [
    "nn.train(\n",
    "    session = sess,\n",
    "    X_train = X_train,\n",
    "    y_train = y_train,\n",
    "    X_test = X_test,\n",
    "    y_test = y_test,\n",
    "    X_val = X_test,\n",
    "    y_val = y_test,\n",
    ")\n",
    "\n",
    "rmses = [np.sqrt(mse(nn.predict(sess, data = X_test), y_test))]\n",
    "\n",
    "for al_iteration in range(1, 10):\n",
    "    print(f'[{al_iteration}] BEFORE:')\n",
    "    print('shapes:', X_train.shape, y_train.shape)\n",
    "    print('shapes:', X_test.shape, y_test.shape)\n",
    "    print('shapes:', X_pool.shape, y_pool.shape)\n",
    "    \n",
    "    gpue = nn.get_nngp_UE(sess, X_train, y_train, X_pool, y_pool)\n",
    "    \n",
    "    X_train, y_train, X_pool, y_pool = \\\n",
    "        update_learning_sets(X_train,\n",
    "                             y_train,\n",
    "                             X_pool,\n",
    "                             y_pool,\n",
    "                             gpue,\n",
    "                             sample_size = 100)\n",
    "    \n",
    "    print(f'[{al_iteration}] AFTER:')\n",
    "    print('shapes:', X_train.shape, y_train.shape)\n",
    "    print('shapes:', X_test.shape, y_test.shape)\n",
    "    print('shapes:', X_pool.shape, y_pool.shape)\n",
    "    \n",
    "    nn.train(\n",
    "        session = sess,\n",
    "        X_train = X_train,\n",
    "        y_train = y_train,\n",
    "        X_test = X_test,\n",
    "        y_test = y_test,\n",
    "        X_val = X_test,\n",
    "        y_val = y_test,\n",
    "    )\n",
    "    rmses.append(np.sqrt(mse(nn.predict(sess, data = X_test),\n",
    "            y_test)))"
   ]
  },
  {
   "cell_type": "code",
   "execution_count": 25,
   "metadata": {
    "pycharm": {
     "is_executing": true
    }
   },
   "outputs": [
    {
     "data": {
      "text/plain": [
       "[67.01624050792357,\n",
       " 25.617914060579913,\n",
       " 20.79083550341267,\n",
       " 20.592644604381892,\n",
       " 19.891202936027778,\n",
       " 19.169725896655404,\n",
       " 19.088115981367878,\n",
       " 18.436352037896626,\n",
       " 15.836635818902577,\n",
       " 15.385584932315856]"
      ]
     },
     "execution_count": 25,
     "metadata": {},
     "output_type": "execute_result"
    }
   ],
   "source": [
    "rmses"
   ]
  },
  {
   "cell_type": "code",
   "execution_count": 26,
   "metadata": {},
   "outputs": [
    {
     "data": {
      "text/plain": [
       "array([[202.12682],\n",
       "       [175.21193],\n",
       "       [360.3318 ]], dtype=float32)"
      ]
     },
     "execution_count": 26,
     "metadata": {},
     "output_type": "execute_result"
    }
   ],
   "source": [
    "nn.predict(sess,\n",
    "           data = X_test[:3])"
   ]
  },
  {
   "cell_type": "code",
   "execution_count": 27,
   "metadata": {},
   "outputs": [
    {
     "data": {
      "text/plain": [
       "array([[183.97308059],\n",
       "       [186.273626  ],\n",
       "       [310.47204144]])"
      ]
     },
     "execution_count": 27,
     "metadata": {},
     "output_type": "execute_result"
    }
   ],
   "source": [
    "y_test[:3]"
   ]
  },
  {
   "cell_type": "code",
   "execution_count": 28,
   "metadata": {},
   "outputs": [
    {
     "data": {
      "text/plain": [
       "(array([0., 0., 0., 0., 0., 0., 0., 0., 0., 0., 0., 0., 0., 0., 0., 0., 0.,\n",
       "        0., 0., 0., 0., 0., 0., 0., 0., 0., 0., 0., 0., 0., 0., 0., 0., 0.,\n",
       "        0., 0., 0., 0., 0., 0., 0., 0., 0., 0., 0., 0., 0., 0., 0., 0., 0.,\n",
       "        0., 0., 0., 0., 0., 0., 0., 0., 0., 0., 0., 0., 0., 0., 0., 0., 0.,\n",
       "        0., 0., 0., 0., 0., 0., 0., 0., 0., 0., 0., 0., 0., 0., 0., 0., 0.,\n",
       "        0., 0., 0., 0., 0., 0., 0., 0., 0., 0., 0., 0., 0., 0., 0.]),\n",
       " array([280.89924695, 240.32911521, 212.78439218, 336.67438452,\n",
       "        371.95826913, 221.99342952, 239.36145661, 175.08057346,\n",
       "        250.84419167, 334.66508059, 183.36869235, 205.28629383,\n",
       "        202.90857136, 292.08283795, 174.96503579, 360.71784888,\n",
       "        194.59085206, 110.29008744, 270.02842567, 272.92573225,\n",
       "        283.68638707, 228.97726692, 169.21232216, 241.86923846,\n",
       "        268.76122167, 182.70312032, 208.02437352, 217.26213109,\n",
       "        285.40837133, 244.2959037 , 254.17450913, 227.31588614,\n",
       "        324.9356297 , 315.27853122, 246.936677  , 229.86442052,\n",
       "        274.83159516, 139.82592565, 372.22786865, 173.03604192,\n",
       "        204.35103397, 208.02803187, 252.46088921, 276.77514948,\n",
       "        257.38784266, 236.24854437, 222.48552312, 248.71391175,\n",
       "        247.72375818, 349.99835335, 148.81985163, 219.43832742,\n",
       "        241.96104932, 230.43524226, 301.9080305 , 140.8951205 ,\n",
       "        275.98867382, 287.24173782, 266.23178741, 298.40548753,\n",
       "        257.64778009, 206.12403558, 270.53308339, 444.00443836,\n",
       "        261.87886166, 215.86823855, 321.37131011, 253.90134464,\n",
       "        229.46069052, 144.2182125 , 290.95094982, 245.69459881,\n",
       "        154.04165429,  91.13983598, 218.55953561, 255.35605887,\n",
       "        264.71041991, 214.38474213, 223.67324879, 230.51249723,\n",
       "        260.72760591, 234.18468151, 189.22520134, 252.5756599 ,\n",
       "        236.07698405, 267.2518538 , 256.85620617, 315.77134843,\n",
       "        249.77778738, 172.51225183, 259.08075996, 263.94290633,\n",
       "        256.02941223, 276.42686564, 328.37888339, 293.79201284,\n",
       "        287.26711085, 310.81228774, 233.37343115, 149.20404135]))"
      ]
     },
     "execution_count": 28,
     "metadata": {},
     "output_type": "execute_result"
    }
   ],
   "source": [
    "gpue = nn.get_nngp_UE(sess, X_train, y_train, X_pool, y_pool)\n",
    "mcd_ue = nn.get_mcd_UE(sess, X_pool)\n",
    "gpue, mcd_ue"
   ]
  },
  {
   "cell_type": "code",
   "execution_count": null,
   "metadata": {},
   "outputs": [],
   "source": []
  },
  {
   "cell_type": "code",
   "execution_count": 29,
   "metadata": {},
   "outputs": [
    {
     "name": "stdout",
     "output_type": "stream",
     "text": [
      "shapes: (1100, 10) (1100, 1)\n",
      "shapes: (200, 10) (200, 1)\n",
      "shapes: (100, 10) (100, 1)\n"
     ]
    }
   ],
   "source": [
    "print('shapes:', X_train.shape, y_train.shape)\n",
    "print('shapes:', X_test.shape, y_test.shape)\n",
    "print('shapes:', X_pool.shape, y_pool.shape)"
   ]
  },
  {
   "cell_type": "code",
   "execution_count": 30,
   "metadata": {},
   "outputs": [],
   "source": [
    "X_train, y_train, X_pool, y_pool = \\\n",
    "    update_learning_sets(X_train,\n",
    "                         y_train,\n",
    "                         X_pool,\n",
    "                         y_pool,\n",
    "                         gpue,\n",
    "                         sample_size = 10)"
   ]
  },
  {
   "cell_type": "code",
   "execution_count": 31,
   "metadata": {},
   "outputs": [
    {
     "name": "stdout",
     "output_type": "stream",
     "text": [
      "shapes: (1110, 10) (1110, 1)\n",
      "shapes: (200, 10) (200, 1)\n",
      "shapes: (90, 10) (90, 1)\n"
     ]
    }
   ],
   "source": [
    "print('shapes:', X_train.shape, y_train.shape)\n",
    "print('shapes:', X_test.shape, y_test.shape)\n",
    "print('shapes:', X_pool.shape, y_pool.shape)"
   ]
  },
  {
   "cell_type": "code",
   "execution_count": null,
   "metadata": {},
   "outputs": [],
   "source": []
  }
 ],
 "metadata": {
  "kernelspec": {
   "display_name": "Python 3",
   "language": "python",
   "name": "python3"
  },
  "language_info": {
   "codemirror_mode": {
    "name": "ipython",
    "version": 3
   },
   "file_extension": ".py",
   "mimetype": "text/x-python",
   "name": "python",
   "nbconvert_exporter": "python",
   "pygments_lexer": "ipython3",
   "version": "3.7.3"
  },
  "pycharm": {
   "stem_cell": {
    "cell_type": "raw",
    "metadata": {
     "collapsed": false
    },
    "source": []
   }
  }
 },
 "nbformat": 4,
 "nbformat_minor": 2
}
