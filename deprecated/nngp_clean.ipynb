{
 "cells": [
  {
   "cell_type": "code",
   "execution_count": null,
   "metadata": {
    "pycharm": {
     "is_executing": false
    }
   },
   "outputs": [],
   "source": [
    "# a setting for my cluster; ignore it\n",
    "import os\n",
    "os.environ['CUDA_MPS_PIPE_DIRECTORY'] = \"/tmp/nvidia-mps\"\n",
    "os.environ['CUDA_MPS_LOG_DIRECTORY'] = \"/tmp/nvidia-log\""
   ]
  },
  {
   "cell_type": "code",
   "execution_count": null,
   "metadata": {
    "pycharm": {
     "is_executing": false
    }
   },
   "outputs": [],
   "source": [
    "%%time\n",
    "from nngp import *"
   ]
  },
  {
   "cell_type": "code",
   "execution_count": null,
   "metadata": {
    "pycharm": {
     "is_executing": false
    }
   },
   "outputs": [],
   "source": [
    "random_state = 4623457\n",
    "ndim = 10\n",
    "N_train, N_test, N_pool = 200, 200, 1000\n",
    "layers = [128,64,32]\n",
    "\n",
    "np.random.seed(random_state)"
   ]
  },
  {
   "cell_type": "code",
   "execution_count": null,
   "metadata": {
    "pycharm": {
     "is_executing": false
    }
   },
   "outputs": [],
   "source": [
    "from scipy.optimize import rosen\n",
    "def ans(x):\n",
    "    return rosen(x.T)[:,None]\n",
    "X_train = np.random.random((N_train, ndim))\n",
    "y_train = ans(X_train)\n",
    "\n",
    "X_pool = np.random.random((N_pool, ndim))\n",
    "y_pool = ans(X_pool)\n",
    "\n",
    "X_test = np.random.random((N_test, ndim))\n",
    "y_test = ans(X_test)\n",
    "\n",
    "print('shapes:', X_train.shape, y_train.shape)\n",
    "print('shapes:', X_test.shape, y_test.shape)\n",
    "print('shapes:', X_pool.shape, y_pool.shape)"
   ]
  },
  {
   "cell_type": "code",
   "execution_count": null,
   "metadata": {
    "pycharm": {
     "is_executing": false
    }
   },
   "outputs": [],
   "source": [
    "tf.reset_default_graph()\n",
    "nn = NN(\n",
    "    ndim = ndim,\n",
    "    random_state = random_state,\n",
    "    layers = layers\n",
    ")"
   ]
  },
  {
   "cell_type": "code",
   "execution_count": null,
   "metadata": {
    "pycharm": {
     "is_executing": false
    }
   },
   "outputs": [],
   "source": [
    "try:\n",
    "    sess.close()\n",
    "except:\n",
    "    pass\n",
    "# a setting for my cluster; ignore it\n",
    "config = tf.ConfigProto()\n",
    "config.gpu_options.allow_growth = True\n",
    "\n",
    "# global init\n",
    "init = tf.global_variables_initializer()\n",
    "saver = tf.train.Saver()\n",
    "sess = tf.Session(config=config)\n",
    "sess.run(init)"
   ]
  },
  {
   "cell_type": "code",
   "execution_count": null,
   "metadata": {
    "pycharm": {
     "is_executing": false
    }
   },
   "outputs": [],
   "source": [
    "nn.train(\n",
    "    session = sess,\n",
    "    X_train = X_train,\n",
    "    y_train = y_train,\n",
    "    X_test = X_test,\n",
    "    y_test = y_test,\n",
    "    X_val = X_test,\n",
    "    y_val = y_test,\n",
    ")\n",
    "\n",
    "rmses = [np.sqrt(mse(nn.predict(sess, data = X_test), y_test))]\n",
    "\n",
    "for al_iteration in range(1, 10):\n",
    "    print(f'[{al_iteration}] BEFORE:')\n",
    "    print('shapes:', X_train.shape, y_train.shape)\n",
    "    print('shapes:', X_test.shape, y_test.shape)\n",
    "    print('shapes:', X_pool.shape, y_pool.shape)\n",
    "    \n",
    "    gpue = nn.get_nngp_UE(sess, X_train, y_train, X_pool, y_pool)\n",
    "    \n",
    "    X_train, y_train, X_pool, y_pool = \\\n",
    "        update_learning_sets(X_train,\n",
    "                             y_train,\n",
    "                             X_pool,\n",
    "                             y_pool,\n",
    "                             gpue,\n",
    "                             sample_size = 100)\n",
    "    \n",
    "    print(f'[{al_iteration}] AFTER:')\n",
    "    print('shapes:', X_train.shape, y_train.shape)\n",
    "    print('shapes:', X_test.shape, y_test.shape)\n",
    "    print('shapes:', X_pool.shape, y_pool.shape)\n",
    "    \n",
    "    nn.train(\n",
    "        session = sess,\n",
    "        X_train = X_train,\n",
    "        y_train = y_train,\n",
    "        X_test = X_test,\n",
    "        y_test = y_test,\n",
    "        X_val = X_test,\n",
    "        y_val = y_test,\n",
    "    )\n",
    "    rmses.append(np.sqrt(mse(nn.predict(sess, data = X_test),\n",
    "            y_test)))"
   ]
  },
  {
   "cell_type": "code",
   "execution_count": null,
   "metadata": {
    "pycharm": {
     "is_executing": true
    }
   },
   "outputs": [],
   "source": [
    "rmses"
   ]
  },
  {
   "cell_type": "code",
   "execution_count": null,
   "metadata": {},
   "outputs": [],
   "source": [
    "nn.predict(sess,\n",
    "           data = X_test[:3])"
   ]
  },
  {
   "cell_type": "code",
   "execution_count": null,
   "metadata": {},
   "outputs": [],
   "source": [
    "y_test[:3]"
   ]
  },
  {
   "cell_type": "code",
   "execution_count": null,
   "metadata": {},
   "outputs": [],
   "source": [
    "gpue = nn.get_nngp_UE(sess, X_train, y_train, X_pool, y_pool)\n",
    "mcd_ue = nn.get_mcd_UE(sess, X_pool)\n",
    "gpue, mcd_ue"
   ]
  },
  {
   "cell_type": "code",
   "execution_count": null,
   "metadata": {},
   "outputs": [],
   "source": []
  },
  {
   "cell_type": "code",
   "execution_count": null,
   "metadata": {},
   "outputs": [],
   "source": [
    "print('shapes:', X_train.shape, y_train.shape)\n",
    "print('shapes:', X_test.shape, y_test.shape)\n",
    "print('shapes:', X_pool.shape, y_pool.shape)"
   ]
  },
  {
   "cell_type": "code",
   "execution_count": null,
   "metadata": {},
   "outputs": [],
   "source": [
    "X_train, y_train, X_pool, y_pool = \\\n",
    "    update_learning_sets(X_train,\n",
    "                         y_train,\n",
    "                         X_pool,\n",
    "                         y_pool,\n",
    "                         gpue,\n",
    "                         sample_size = 10)"
   ]
  },
  {
   "cell_type": "code",
   "execution_count": null,
   "metadata": {},
   "outputs": [],
   "source": [
    "print('shapes:', X_train.shape, y_train.shape)\n",
    "print('shapes:', X_test.shape, y_test.shape)\n",
    "print('shapes:', X_pool.shape, y_pool.shape)"
   ]
  },
  {
   "cell_type": "code",
   "execution_count": null,
   "metadata": {},
   "outputs": [],
   "source": []
  }
 ],
 "metadata": {
  "kernelspec": {
   "display_name": "Python 3",
   "language": "python",
   "name": "python3"
  },
  "language_info": {
   "codemirror_mode": {
    "name": "ipython",
    "version": 3
   },
   "file_extension": ".py",
   "mimetype": "text/x-python",
   "name": "python",
   "nbconvert_exporter": "python",
   "pygments_lexer": "ipython3",
   "version": "3.7.3"
  },
  "pycharm": {
   "stem_cell": {
    "cell_type": "raw",
    "metadata": {
     "collapsed": false
    },
    "source": []
   }
  }
 },
 "nbformat": 4,
 "nbformat_minor": 2
}
