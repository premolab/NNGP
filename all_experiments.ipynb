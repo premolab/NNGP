{
 "cells": [
  {
   "cell_type": "markdown",
   "metadata": {
    "pycharm": {
     "is_executing": false
    }
   },
   "source": [
    "#### Active learning NNGP experiment\n",
    "multiple params"
   ]
  },
  {
   "cell_type": "code",
   "execution_count": null,
   "metadata": {},
   "outputs": [],
   "source": [
    "%load_ext autoreload\n",
    "%autoreload 2"
   ]
  },
  {
   "cell_type": "code",
   "execution_count": null,
   "metadata": {},
   "outputs": [],
   "source": [
    "import random\n",
    "\n",
    "import numpy as np\n",
    "import tensorflow as tf\n",
    "from sklearn.metrics import mean_squared_error as mse\n",
    "import matplotlib.pyplot as plt\n",
    "\n",
    "from model.mlp import MLP\n",
    "from dataloader.rosen import RosenData\n",
    "from uncertainty_estimator.nngp import NNGP\n",
    "from uncertainty_estimator.mcdue import MCDUE\n",
    "from uncertainty_estimator.random_estimator import RandomEstimator\n",
    "from sample_selector.eager import EagerSampleSelector\n",
    "from oracle.identity import IdentityOracle\n",
    "from al_trainer import ALTrainer\n",
    "\n",
    "import tensorflow.python.util.deprecation as deprecation\n",
    "deprecation._PRINT_DEPRECATION_WARNINGS = False\n"
   ]
  },
  {
   "cell_type": "code",
   "execution_count": null,
   "metadata": {
    "pycharm": {
     "is_executing": false
    }
   },
   "outputs": [],
   "source": [
    "config = {\n",
    "    'random_seed': 4623457,\n",
    "    'n_dim': 10,\n",
    "    'n_train': 200,\n",
    "    'n_val': 200,\n",
    "    'n_test': 200,\n",
    "    'n_pool': 1000,\n",
    "    'layers': [128, 64, 32],\n",
    "    'update_sample_size': 100,\n",
    "    'al_iterations': 3\n",
    "}\n",
    "\n"
   ]
  },
  {
   "cell_type": "code",
   "execution_count": null,
   "metadata": {
    "pycharm": {
     "is_executing": false
    }
   },
   "outputs": [],
   "source": [
    "rmses = {}\n",
    "for experiment in ['random', 'nngp']:\n",
    "    print(\"\\n\\nEXPERIMENT\", experiment)\n",
    "\n",
    "    # load data\n",
    "    use_cache = config['random_seed'] is not None\n",
    "    X_train, y_train, _, _, X_test, y_test, X_pool, y_pool = RosenData(\n",
    "        config['n_train'], config['n_val'], config['n_test'], config['n_pool'], config['n_dim']\n",
    "    ).dataset(use_cache=use_cache)\n",
    "\n",
    "\n",
    "    # Init neural network & tf session\n",
    "    tf.reset_default_graph()\n",
    "    if config['random_seed'] is not None:\n",
    "        tf.set_random_seed(config['random_seed'])\n",
    "        np.random.seed(config['random_seed'])\n",
    "        random.seed(config['random_seed'])\n",
    "\n",
    "    model = MLP(\n",
    "        ndim = config['n_dim'],\n",
    "        random_state = config['random_seed'],\n",
    "        layers = config['layers'])\n",
    "\n",
    "    try:\n",
    "        sess.close()\n",
    "    except:\n",
    "        pass\n",
    "\n",
    "    init = tf.global_variables_initializer()\n",
    "    sess = tf.Session()\n",
    "    sess.run(init)\n",
    "\n",
    "    model.set_session(sess)\n",
    "    if experiment == 'nngp':\n",
    "        estimator = NNGP(model)  # to estimate uncertainties\n",
    "        estimator.set_session(sess)\n",
    "    elif experiment == 'random':\n",
    "        estimator = RandomEstimator()\n",
    "\n",
    "    oracle = IdentityOracle(y_pool)  # generate y for X from pool\n",
    "    sampler = EagerSampleSelector(oracle) # sample X and y from pool by uncertainty estimations\n",
    "\n",
    "    trainer = ALTrainer(model, estimator, sampler, oracle, config['al_iterations'], config['update_sample_size'])\n",
    "    rmses[experiment] = trainer.train(X_train, y_train, X_test, y_test, X_test, y_test, X_pool)\n"
   ]
  },
  {
   "cell_type": "code",
   "execution_count": null,
   "metadata": {
    "pycharm": {
     "is_executing": true
    }
   },
   "outputs": [],
   "source": [
    "print(rmses)\n",
    "for experiment, rmse in rmses.items():\n",
    "    plt.plot(rmse, label=experiment, marker='.')\n",
    "\n",
    "plt.title('RMS Error by active learning iterations')\n",
    "plt.legend()"
   ]
  },
  {
   "cell_type": "code",
   "execution_count": null,
   "metadata": {},
   "outputs": [],
   "source": [
    "# Show some predictions\n",
    "print(model.predict(data = X_test[:3]))\n",
    "print(y_test[:3])"
   ]
  },
  {
   "cell_type": "code",
   "execution_count": null,
   "metadata": {},
   "outputs": [],
   "source": [
    "# show some uncertainties\n",
    "estimator.estimate(X_train, y_train, X_pool)[:10]"
   ]
  },
  {
   "cell_type": "code",
   "execution_count": null,
   "metadata": {},
   "outputs": [],
   "source": []
  }
 ],
 "metadata": {
  "kernelspec": {
   "display_name": "Python 3",
   "language": "python",
   "name": "python3"
  },
  "language_info": {
   "codemirror_mode": {
    "name": "ipython",
    "version": 3
   },
   "file_extension": ".py",
   "mimetype": "text/x-python",
   "name": "python",
   "nbconvert_exporter": "python",
   "pygments_lexer": "ipython3",
   "version": "3.7.3"
  },
  "pycharm": {
   "stem_cell": {
    "cell_type": "raw",
    "metadata": {
     "collapsed": false
    },
    "source": []
   }
  }
 },
 "nbformat": 4,
 "nbformat_minor": 2
}
