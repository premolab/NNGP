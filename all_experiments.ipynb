{
 "cells": [
  {
   "cell_type": "markdown",
   "metadata": {
    "pycharm": {
     "is_executing": false
    }
   },
   "source": [
    "#### Active learning NNGP experiment\n",
    "multiple params"
   ]
  },
  {
   "cell_type": "code",
   "execution_count": null,
   "metadata": {
    "pycharm": {
     "is_executing": false
    }
   },
   "outputs": [],
   "source": [
    "%load_ext autoreload\n",
    "%autoreload 2"
   ]
  },
  {
   "cell_type": "code",
   "execution_count": null,
   "metadata": {
    "pycharm": {
     "is_executing": false
    }
   },
   "outputs": [],
   "source": [
    "import random\n",
    "\n",
    "import numpy as np\n",
    "import tensorflow as tf\n",
    "from sklearn.metrics import mean_squared_error as mse\n",
    "import matplotlib.pyplot as plt\n",
    "\n",
    "from model.mlp import MLP\n",
    "from dataloader.rosen import RosenData\n",
    "from uncertainty_estimator.nngp import NNGP\n",
    "from uncertainty_estimator.mcdue import MCDUE\n",
    "from uncertainty_estimator.random_estimator import RandomEstimator\n",
    "from sample_selector.eager import EagerSampleSelector\n",
    "from oracle.identity import IdentityOracle\n",
    "from al_trainer import ALTrainer\n",
    "\n",
    "import tensorflow.python.util.deprecation as deprecation\n",
    "deprecation._PRINT_DEPRECATION_WARNINGS = False\n"
   ]
  },
  {
   "cell_type": "code",
   "execution_count": null,
   "metadata": {
    "pycharm": {
     "is_executing": false
    }
   },
   "outputs": [],
   "source": [
    "# 4623457\n",
    "\n",
    "config = {\n",
    "    'random_seed': 42,\n",
    "    'n_dim': 10,\n",
    "    'n_train': 200,\n",
    "    'n_val': 200,\n",
    "    'n_test': 200,\n",
    "    'n_pool': 1000,\n",
    "    'layers': [128, 64, 32],\n",
    "    'update_sample_size': 100,\n",
    "    'al_iterations': 10,\n",
    "    'use_cached_data': True,\n",
    "    'estimators': ['nngp', 'mcdue', 'random']\n",
    "}\n",
    "\n"
   ]
  },
  {
   "cell_type": "code",
   "execution_count": null,
   "metadata": {},
   "outputs": [],
   "source": [
    "def build_estimator(name, model):\n",
    "    if name == 'nngp':\n",
    "        estimator = NNGP(model)\n",
    "    elif name == 'random':\n",
    "        estimator = RandomEstimator()\n",
    "    elif name == 'mcdue':\n",
    "        estimator = MCDUE(model)\n",
    "    else:\n",
    "        raise ValueError(\"Wrong estimator name\")\n",
    "    return estimator"
   ]
  },
  {
   "cell_type": "code",
   "execution_count": null,
   "metadata": {
    "pycharm": {
     "is_executing": false
    }
   },
   "outputs": [],
   "source": [
    "sess = None\n",
    "rmses = {}\n",
    "for estimator_name in config['estimators']:\n",
    "    print(\"\\n\\nEstimator:\", estimator_name)\n",
    "\n",
    "    # load data\n",
    "    X_train, y_train, _, _, X_test, y_test, X_pool, y_pool = RosenData(\n",
    "        config['n_train'], config['n_val'], config['n_test'], config['n_pool'], config['n_dim']\n",
    "    ).dataset(use_cache=config['use_cached_data'])\n",
    "\n",
    "\n",
    "    # Init neural network & tf session\n",
    "    tf.reset_default_graph()\n",
    "    if config['random_seed'] is not None:\n",
    "        tf.set_random_seed(config['random_seed'])\n",
    "        np.random.seed(config['random_seed'])\n",
    "        random.seed(config['random_seed'])\n",
    "\n",
    "    model = MLP(ndim=config['n_dim'], layers=config['layers'])\n",
    "\n",
    "    if sess is not None and not sess._closed:\n",
    "        sess.close()\n",
    "\n",
    "    init = tf.global_variables_initializer()\n",
    "    sess = tf.Session()\n",
    "    sess.run(init)\n",
    "    model.set_session(sess)\n",
    "    \n",
    "    estimator = build_estimator(estimator_name, model)  # to estimate uncertainties\n",
    "    oracle = IdentityOracle(y_pool)  # generate y for X from pool\n",
    "    sampler = EagerSampleSelector(oracle) # sample X and y from pool by uncertainty estimations\n",
    "\n",
    "    trainer = ALTrainer(model, estimator, sampler, oracle, config['al_iterations'], config['update_sample_size'])\n",
    "    rmses[estimator_name] = trainer.train(X_train, y_train, X_test, y_test, X_test, y_test, X_pool)\n"
   ]
  },
  {
   "cell_type": "code",
   "execution_count": null,
   "metadata": {
    "pycharm": {
     "is_executing": true
    }
   },
   "outputs": [],
   "source": [
    "print(rmses)\n",
    "plt.figure(figsize=(12, 9))\n",
    "plt.xlabel('Active learning iteration')\n",
    "plt.ylabel('Validation RMSE')\n",
    "for estimator_name, rmse in rmses.items():\n",
    "    plt.plot(rmse, label=estimator_name, marker='.')\n",
    "\n",
    "plt.title('RMS Error by active learning iterations')\n",
    "plt.legend()"
   ]
  },
  {
   "cell_type": "code",
   "execution_count": null,
   "metadata": {},
   "outputs": [],
   "source": [
    "# Show some predictions\n",
    "print(model.predict(data = X_test[:3]))\n",
    "print(y_test[:3])"
   ]
  },
  {
   "cell_type": "code",
   "execution_count": null,
   "metadata": {},
   "outputs": [],
   "source": [
    "# show some uncertainties\n",
    "estimator.estimate(X_train, y_train, X_pool)[:10]"
   ]
  },
  {
   "cell_type": "code",
   "execution_count": null,
   "metadata": {},
   "outputs": [],
   "source": []
  }
 ],
 "metadata": {
  "kernelspec": {
   "display_name": "Python 3",
   "language": "python",
   "name": "python3"
  },
  "language_info": {
   "codemirror_mode": {
    "name": "ipython",
    "version": 3
   },
   "file_extension": ".py",
   "mimetype": "text/x-python",
   "name": "python",
   "nbconvert_exporter": "python",
   "pygments_lexer": "ipython3",
   "version": "3.7.3"
  },
  "pycharm": {
   "stem_cell": {
    "cell_type": "raw",
    "metadata": {
     "collapsed": false
    },
    "source": []
   }
  }
 },
 "nbformat": 4,
 "nbformat_minor": 2
}
